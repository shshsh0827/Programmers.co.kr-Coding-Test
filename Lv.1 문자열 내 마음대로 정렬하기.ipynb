{
 "cells": [
  {
   "cell_type": "markdown",
   "id": "40d2be86",
   "metadata": {},
   "source": [
    "https://programmers.co.kr/learn/courses/30/lessons/12915\n",
    "\n",
    "문제 설명\n",
    "문자열로 구성된 리스트 strings와, 정수 n이 주어졌을 때, 각 문자열의 인덱스 n번째 글자를 기준으로 오름차순 정렬하려 합니다. 예를 들어 strings가 [\"sun\", \"bed\", \"car\"]이고 n이 1이면 각 단어의 인덱스 1의 문자 \"u\", \"e\", \"a\"로 strings를 정렬합니다.\n",
    "\n",
    "제한 조건\n",
    "strings는 길이 1 이상, 50이하인 배열입니다.\n",
    "strings의 원소는 소문자 알파벳으로 이루어져 있습니다.\n",
    "strings의 원소는 길이 1 이상, 100이하인 문자열입니다.\n",
    "모든 strings의 원소의 길이는 n보다 큽니다.\n",
    "인덱스 1의 문자가 같은 문자열이 여럿 일 경우, 사전순으로 앞선 문자열이 앞쪽에 위치합니다.\n",
    "입출력 예\n",
    "strings\tn\treturn\n",
    "[\"sun\", \"bed\", \"car\"]\t1\t[\"car\", \"bed\", \"sun\"]\n",
    "[\"abce\", \"abcd\", \"cdx\"]\t2\t[\"abcd\", \"abce\", \"cdx\"]\n",
    "입출력 예 설명\n",
    "입출력 예 1\n",
    "\"sun\", \"bed\", \"car\"의 1번째 인덱스 값은 각각 \"u\", \"e\", \"a\" 입니다. 이를 기준으로 strings를 정렬하면 [\"car\", \"bed\", \"sun\"] 입니다.\n",
    "\n",
    "입출력 예 2\n",
    "\"abce\"와 \"abcd\", \"cdx\"의 2번째 인덱스 값은 \"c\", \"c\", \"x\"입니다. 따라서 정렬 후에는 \"cdx\"가 가장 뒤에 위치합니다. \"abce\"와 \"abcd\"는 사전순으로 정렬하면 \"abcd\"가 우선하므로, 답은 [\"abcd\", \"abce\", \"cdx\"] 입니다."
   ]
  },
  {
   "cell_type": "code",
   "execution_count": 1,
   "id": "0cdc7bf4",
   "metadata": {},
   "outputs": [],
   "source": [
    "def solution(strings, n):\n",
    "    return [j for i, j in sorted(zip([string[n] for string in strings], strings))]"
   ]
  },
  {
   "cell_type": "code",
   "execution_count": 2,
   "id": "e2ffa6db",
   "metadata": {},
   "outputs": [
    {
     "data": {
      "text/plain": [
       "['car', 'bed', 'sun']"
      ]
     },
     "execution_count": 2,
     "metadata": {},
     "output_type": "execute_result"
    }
   ],
   "source": [
    "solution([\"sun\", \"bed\", \"car\"], 1)"
   ]
  },
  {
   "cell_type": "code",
   "execution_count": 3,
   "id": "42e0e05d",
   "metadata": {},
   "outputs": [
    {
     "data": {
      "text/plain": [
       "['abcd', 'abce', 'cdx']"
      ]
     },
     "execution_count": 3,
     "metadata": {},
     "output_type": "execute_result"
    }
   ],
   "source": [
    "solution([\"abce\", \"abcd\", \"cdx\"], 2)"
   ]
  }
 ],
 "metadata": {
  "kernelspec": {
   "display_name": "Python 3",
   "language": "python",
   "name": "python3"
  },
  "language_info": {
   "codemirror_mode": {
    "name": "ipython",
    "version": 3
   },
   "file_extension": ".py",
   "mimetype": "text/x-python",
   "name": "python",
   "nbconvert_exporter": "python",
   "pygments_lexer": "ipython3",
   "version": "3.8.8"
  }
 },
 "nbformat": 4,
 "nbformat_minor": 5
}
