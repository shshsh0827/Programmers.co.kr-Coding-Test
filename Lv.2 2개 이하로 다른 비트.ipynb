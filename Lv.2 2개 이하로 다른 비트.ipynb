{
 "cells": [
  {
   "cell_type": "markdown",
   "id": "518070fe",
   "metadata": {},
   "source": [
    "https://programmers.co.kr/learn/courses/30/lessons/77885\n",
    "\n",
    "문제 설명\n",
    "양의 정수 x에 대한 함수 f(x)를 다음과 같이 정의합니다.\n",
    "\n",
    "x보다 크고 x와 비트가 1~2개 다른 수들 중에서 제일 작은 수\n",
    "예를 들어,\n",
    "\n",
    "f(2) = 3 입니다. 다음 표와 같이 2보다 큰 수들 중에서 비트가 다른 지점이 2개 이하이면서 제일 작은 수가 3이기 때문입니다.\n",
    "수\t비트\t다른 비트의 개수\n",
    "2\t000...0010\t\n",
    "3\t000...0011\t1\n",
    "f(7) = 11 입니다. 다음 표와 같이 7보다 큰 수들 중에서 비트가 다른 지점이 2개 이하이면서 제일 작은 수가 11이기 때문입니다.\n",
    "수\t비트\t다른 비트의 개수\n",
    "7\t000...0111\t\n",
    "8\t000...1000\t4\n",
    "9\t000...1001\t3\n",
    "10\t000...1010\t3\n",
    "11\t000...1011\t2\n",
    "정수들이 담긴 배열 numbers가 매개변수로 주어집니다. numbers의 모든 수들에 대하여 각 수의 f 값을 배열에 차례대로 담아 return 하도록 solution 함수를 완성해주세요.\n",
    "\n",
    "제한사항\n",
    "1 ≤ numbers의 길이 ≤ 100,000\n",
    "0 ≤ numbers의 모든 수 ≤ 1015\n",
    "입출력 예\n",
    "numbers\tresult\n",
    "[2,7]\t[3,11]\n",
    "입출력 예 설명\n",
    "입출력 예 #1\n",
    "\n",
    "문제 예시와 같습니다."
   ]
  },
  {
   "cell_type": "code",
   "execution_count": 1,
   "id": "7c061459",
   "metadata": {},
   "outputs": [],
   "source": [
    "def solution(numbers):\n",
    "    answer = []\n",
    "    for n in numbers:\n",
    "        n = list(bin(n)[2:].zfill(len(bin(n)) - 1)[-1::-1])\n",
    "        idx = n.index('0')\n",
    "        n[idx] = str(1)\n",
    "        if idx != 0:\n",
    "            n[idx - 1] = str((int(n[idx - 1]) + 1) % 2)\n",
    "        n = ''.join(n)\n",
    "        answer.append(sum([(int(n[i]) * 2 ** i) for i in range(len(n))]))\n",
    "    return answer"
   ]
  },
  {
   "cell_type": "code",
   "execution_count": 2,
   "id": "0d0c64d3",
   "metadata": {},
   "outputs": [
    {
     "data": {
      "text/plain": [
       "[3, 11]"
      ]
     },
     "execution_count": 2,
     "metadata": {},
     "output_type": "execute_result"
    }
   ],
   "source": [
    "solution([2,7])"
   ]
  }
 ],
 "metadata": {
  "kernelspec": {
   "display_name": "Python 3",
   "language": "python",
   "name": "python3"
  },
  "language_info": {
   "codemirror_mode": {
    "name": "ipython",
    "version": 3
   },
   "file_extension": ".py",
   "mimetype": "text/x-python",
   "name": "python",
   "nbconvert_exporter": "python",
   "pygments_lexer": "ipython3",
   "version": "3.8.8"
  }
 },
 "nbformat": 4,
 "nbformat_minor": 5
}
