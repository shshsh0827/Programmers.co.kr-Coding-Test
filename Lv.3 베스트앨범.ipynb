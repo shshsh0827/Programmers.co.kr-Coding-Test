{
 "cells": [
  {
   "cell_type": "markdown",
   "metadata": {},
   "source": [
    "https://programmers.co.kr/learn/courses/30/lessons/42579\n",
    "\n",
    "문제 설명\n",
    "스트리밍 사이트에서 장르 별로 가장 많이 재생된 노래를 두 개씩 모아 베스트 앨범을 출시하려 합니다. 노래는 고유 번호로 구분하며, 노래를 수록하는 기준은 다음과 같습니다.\n",
    "\n",
    "속한 노래가 많이 재생된 장르를 먼저 수록합니다.\n",
    "장르 내에서 많이 재생된 노래를 먼저 수록합니다.\n",
    "장르 내에서 재생 횟수가 같은 노래 중에서는 고유 번호가 낮은 노래를 먼저 수록합니다.\n",
    "노래의 장르를 나타내는 문자열 배열 genres와 노래별 재생 횟수를 나타내는 정수 배열 plays가 주어질 때, 베스트 앨범에 들어갈 노래의 고유 번호를 순서대로 return 하도록 solution 함수를 완성하세요.\n",
    "\n",
    "제한사항\n",
    "genres[i]는 고유번호가 i인 노래의 장르입니다.\n",
    "plays[i]는 고유번호가 i인 노래가 재생된 횟수입니다.\n",
    "genres와 plays의 길이는 같으며, 이는 1 이상 10,000 이하입니다.\n",
    "장르 종류는 100개 미만입니다.\n",
    "장르에 속한 곡이 하나라면, 하나의 곡만 선택합니다.\n",
    "모든 장르는 재생된 횟수가 다릅니다.\n",
    "입출력 예\n",
    "genres\tplays\treturn\n",
    "[\"classic\", \"pop\", \"classic\", \"classic\", \"pop\"]\t[500, 600, 150, 800, 2500]\t[4, 1, 3, 0]\n",
    "입출력 예 설명\n",
    "classic 장르는 1,450회 재생되었으며, classic 노래는 다음과 같습니다.\n",
    "\n",
    "고유 번호 3: 800회 재생\n",
    "고유 번호 0: 500회 재생\n",
    "고유 번호 2: 150회 재생\n",
    "pop 장르는 3,100회 재생되었으며, pop 노래는 다음과 같습니다.\n",
    "\n",
    "고유 번호 4: 2,500회 재생\n",
    "고유 번호 1: 600회 재생\n",
    "따라서 pop 장르의 [4, 1]번 노래를 먼저, classic 장르의 [3, 0]번 노래를 그다음에 수록합니다."
   ]
  },
  {
   "cell_type": "code",
   "execution_count": 1,
   "metadata": {},
   "outputs": [],
   "source": [
    "def solution(genres, plays):\n",
    "    data = list(zip(genres, plays, range(len(genres))))\n",
    "    gd = dict()\n",
    "    sd = dict()\n",
    "    for g, p, i in data:\n",
    "        try:\n",
    "            gd[g] += [i]\n",
    "        except:\n",
    "            gd[g] = [i]\n",
    "        try:\n",
    "            sd[i] += p\n",
    "        except:\n",
    "            sd[i] = p\n",
    "    answer = []\n",
    "    for totalP, g in sorted(list(zip(list(map(lambda x: sum(list(map(lambda x: sd[x], x[1]))), gd.items())), gd)), reverse=True):\n",
    "        answer.extend(list(map(lambda x: len(genres) - x[1], sorted(list(map(lambda x: (sd[x], len(genres) - x), gd[g])), reverse=True)[:2])))\n",
    "    return answer"
   ]
  },
  {
   "cell_type": "code",
   "execution_count": 2,
   "metadata": {},
   "outputs": [
    {
     "data": {
      "text/plain": [
       "[4, 1, 3, 0]"
      ]
     },
     "execution_count": 2,
     "metadata": {},
     "output_type": "execute_result"
    }
   ],
   "source": [
    "solution([\"classic\", \"pop\", \"classic\", \"classic\", \"pop\"], [500, 600, 150, 800, 2500])"
   ]
  }
 ],
 "metadata": {
  "kernelspec": {
   "display_name": "Python 3",
   "language": "python",
   "name": "python3"
  },
  "language_info": {
   "codemirror_mode": {
    "name": "ipython",
    "version": 3
   },
   "file_extension": ".py",
   "mimetype": "text/x-python",
   "name": "python",
   "nbconvert_exporter": "python",
   "pygments_lexer": "ipython3",
   "version": "3.7.4"
  }
 },
 "nbformat": 4,
 "nbformat_minor": 2
}
