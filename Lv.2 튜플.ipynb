{
 "cells": [
  {
   "cell_type": "markdown",
   "id": "7f5f9aaf",
   "metadata": {},
   "source": [
    "https://programmers.co.kr/learn/courses/30/lessons/64065\n",
    "\n",
    "문제 설명\n",
    "셀수있는 수량의 순서있는 열거 또는 어떤 순서를 따르는 요소들의 모음을 튜플(tuple)이라고 합니다. n개의 요소를 가진 튜플을 n-튜플(n-tuple)이라고 하며, 다음과 같이 표현할 수 있습니다.\n",
    "\n",
    "(a1, a2, a3, ..., an)\n",
    "튜플은 다음과 같은 성질을 가지고 있습니다.\n",
    "\n",
    "중복된 원소가 있을 수 있습니다. ex : (2, 3, 1, 2)\n",
    "원소에 정해진 순서가 있으며, 원소의 순서가 다르면 서로 다른 튜플입니다. ex : (1, 2, 3) ≠ (1, 3, 2)\n",
    "튜플의 원소 개수는 유한합니다.\n",
    "원소의 개수가 n개이고, 중복되는 원소가 없는 튜플 (a1, a2, a3, ..., an)이 주어질 때(단, a1, a2, ..., an은 자연수), 이는 다음과 같이 집합 기호 '{', '}'를 이용해 표현할 수 있습니다.\n",
    "\n",
    "{{a1}, {a1, a2}, {a1, a2, a3}, {a1, a2, a3, a4}, ... {a1, a2, a3, a4, ..., an}}\n",
    "예를 들어 튜플이 (2, 1, 3, 4)인 경우 이는\n",
    "\n",
    "{{2}, {2, 1}, {2, 1, 3}, {2, 1, 3, 4}}\n",
    "와 같이 표현할 수 있습니다. 이때, 집합은 원소의 순서가 바뀌어도 상관없으므로\n",
    "\n",
    "{{2}, {2, 1}, {2, 1, 3}, {2, 1, 3, 4}}\n",
    "{{2, 1, 3, 4}, {2}, {2, 1, 3}, {2, 1}}\n",
    "{{1, 2, 3}, {2, 1}, {1, 2, 4, 3}, {2}}\n",
    "는 모두 같은 튜플 (2, 1, 3, 4)를 나타냅니다.\n",
    "\n",
    "특정 튜플을 표현하는 집합이 담긴 문자열 s가 매개변수로 주어질 때, s가 표현하는 튜플을 배열에 담아 return 하도록 solution 함수를 완성해주세요.\n",
    "\n",
    "[제한사항]\n",
    "s의 길이는 5 이상 1,000,000 이하입니다.\n",
    "s는 숫자와 '{', '}', ',' 로만 이루어져 있습니다.\n",
    "숫자가 0으로 시작하는 경우는 없습니다.\n",
    "s는 항상 중복되는 원소가 없는 튜플을 올바르게 표현하고 있습니다.\n",
    "s가 표현하는 튜플의 원소는 1 이상 100,000 이하인 자연수입니다.\n",
    "return 하는 배열의 길이가 1 이상 500 이하인 경우만 입력으로 주어집니다.\n",
    "[입출력 예]\n",
    "s\tresult\n",
    "\"{{2},{2,1},{2,1,3},{2,1,3,4}}\"\t[2, 1, 3, 4]\n",
    "\"{{1,2,3},{2,1},{1,2,4,3},{2}}\"\t[2, 1, 3, 4]\n",
    "\"{{20,111},{111}}\"\t[111, 20]\n",
    "\"{{123}}\"\t[123]\n",
    "\"{{4,2,3},{3},{2,3,4,1},{2,3}}\"\t[3, 2, 4, 1]\n",
    "입출력 예에 대한 설명\n",
    "입출력 예 #1\n",
    "문제 예시와 같습니다.\n",
    "\n",
    "입출력 예 #2\n",
    "문제 예시와 같습니다.\n",
    "\n",
    "입출력 예 #3\n",
    "(111, 20)을 집합 기호를 이용해 표현하면 {{111}, {111,20}}이 되며, 이는 {{20,111},{111}}과 같습니다.\n",
    "\n",
    "입출력 예 #4\n",
    "(123)을 집합 기호를 이용해 표현하면 {{123}} 입니다.\n",
    "\n",
    "입출력 예 #5\n",
    "(3, 2, 4, 1)을 집합 기호를 이용해 표현하면 {{3},{3,2},{3,2,4},{3,2,4,1}}이 되며, 이는 {{4,2,3},{3},{2,3,4,1},{2,3}}과 같습니다."
   ]
  },
  {
   "cell_type": "code",
   "execution_count": 1,
   "id": "edd97889",
   "metadata": {},
   "outputs": [],
   "source": [
    "#첫번째\n",
    "def solution(s):\n",
    "    lsts = [i for i in [[j for j in i.split(',') if j.isalnum()] for i in ''.join(s.split('{')).split('}')] if i]\n",
    "    lsts = list(map(lambda x: list(map(lambda y: int(y), x)), lsts))\n",
    "    answer = []\n",
    "    for i, j in sorted(list(map(lambda x: [len(x), lsts.index(x)], lsts))):\n",
    "        answer.extend(list(set(lsts[j]) - set(answer)))\n",
    "    return answer"
   ]
  },
  {
   "cell_type": "code",
   "execution_count": 2,
   "id": "d68a0cc1",
   "metadata": {},
   "outputs": [],
   "source": [
    "#두번째\n",
    "def solution(s):\n",
    "    s = s.lstrip('{').rstrip('}').split('},{')\n",
    "    lst = [i.split(',') for i in s]\n",
    "    answer = []\n",
    "    for i in sorted(list(map(lambda x: list(map(lambda y: int(y), x)), lst)), key=len):\n",
    "        answer.extend(set(i) - set(answer))\n",
    "    return answer"
   ]
  },
  {
   "cell_type": "code",
   "execution_count": 3,
   "id": "056903a8",
   "metadata": {},
   "outputs": [
    {
     "data": {
      "text/plain": [
       "[2, 1, 3, 4]"
      ]
     },
     "execution_count": 3,
     "metadata": {},
     "output_type": "execute_result"
    }
   ],
   "source": [
    "solution(\"{{2},{2,1},{2,1,3},{2,1,3,4}}\")"
   ]
  },
  {
   "cell_type": "code",
   "execution_count": 4,
   "id": "65cb3aff",
   "metadata": {},
   "outputs": [
    {
     "data": {
      "text/plain": [
       "[2, 1, 3, 4]"
      ]
     },
     "execution_count": 4,
     "metadata": {},
     "output_type": "execute_result"
    }
   ],
   "source": [
    "solution(\"{{1,2,3},{2,1},{1,2,4,3},{2}}\")"
   ]
  },
  {
   "cell_type": "code",
   "execution_count": 5,
   "id": "2538e2c7",
   "metadata": {},
   "outputs": [
    {
     "data": {
      "text/plain": [
       "[111, 20]"
      ]
     },
     "execution_count": 5,
     "metadata": {},
     "output_type": "execute_result"
    }
   ],
   "source": [
    "solution(\"{{20,111},{111}}\")"
   ]
  },
  {
   "cell_type": "code",
   "execution_count": 6,
   "id": "34c1f4ae",
   "metadata": {},
   "outputs": [
    {
     "data": {
      "text/plain": [
       "[123]"
      ]
     },
     "execution_count": 6,
     "metadata": {},
     "output_type": "execute_result"
    }
   ],
   "source": [
    "solution(\"{{123}}\")"
   ]
  },
  {
   "cell_type": "code",
   "execution_count": 7,
   "id": "42ca3e4b",
   "metadata": {},
   "outputs": [
    {
     "data": {
      "text/plain": [
       "[3, 2, 4, 1]"
      ]
     },
     "execution_count": 7,
     "metadata": {},
     "output_type": "execute_result"
    }
   ],
   "source": [
    "solution(\"{{4,2,3},{3},{2,3,4,1},{2,3}}\")"
   ]
  }
 ],
 "metadata": {
  "kernelspec": {
   "display_name": "Python 3",
   "language": "python",
   "name": "python3"
  },
  "language_info": {
   "codemirror_mode": {
    "name": "ipython",
    "version": 3
   },
   "file_extension": ".py",
   "mimetype": "text/x-python",
   "name": "python",
   "nbconvert_exporter": "python",
   "pygments_lexer": "ipython3",
   "version": "3.8.8"
  }
 },
 "nbformat": 4,
 "nbformat_minor": 5
}
