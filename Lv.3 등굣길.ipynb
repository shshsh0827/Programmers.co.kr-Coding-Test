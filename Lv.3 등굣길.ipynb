{
 "cells": [
  {
   "cell_type": "markdown",
   "metadata": {},
   "source": [
    "https://programmers.co.kr/learn/courses/30/lessons/42898\n",
    "\n",
    "문제 설명\n",
    "계속되는 폭우로 일부 지역이 물에 잠겼습니다. 물에 잠기지 않은 지역을 통해 학교를 가려고 합니다. 집에서 학교까지 가는 길은 m x n 크기의 격자모양으로 나타낼 수 있습니다.\n",
    "\n",
    "아래 그림은 m = 4, n = 3 인 경우입니다.\n",
    "\n",
    "image0.png\n",
    "\n",
    "가장 왼쪽 위, 즉 집이 있는 곳의 좌표는 (1, 1)로 나타내고 가장 오른쪽 아래, 즉 학교가 있는 곳의 좌표는 (m, n)으로 나타냅니다.\n",
    "\n",
    "격자의 크기 m, n과 물이 잠긴 지역의 좌표를 담은 2차원 배열 puddles이 매개변수로 주어집니다. 오른쪽과 아래쪽으로만 움직여 집에서 학교까지 갈 수 있는 최단경로의 개수를 1,000,000,007로 나눈 나머지를 return 하도록 solution 함수를 작성해주세요.\n",
    "\n",
    "제한사항\n",
    "격자의 크기 m, n은 1 이상 100 이하인 자연수입니다.\n",
    "m과 n이 모두 1인 경우는 입력으로 주어지지 않습니다.\n",
    "물에 잠긴 지역은 0개 이상 10개 이하입니다.\n",
    "집과 학교가 물에 잠긴 경우는 입력으로 주어지지 않습니다.\n",
    "입출력 예\n",
    "m\tn\tpuddles\treturn\n",
    "4\t3\t[[2, 2]]\t4\n",
    "입출력 예 설명\n",
    "image1.png"
   ]
  },
  {
   "cell_type": "code",
   "execution_count": 1,
   "metadata": {},
   "outputs": [],
   "source": [
    "def solution(m, n, puddles):\n",
    "    puddles = list(map(lambda x: [x[0] - 1, x[1] - 1], puddles))\n",
    "    road = [[0 for j in range(m)] for i in range(n)]\n",
    "    m -= 1\n",
    "    n -= 1\n",
    "    k = 0\n",
    "    while k <= n + m:\n",
    "        i = min(k, n)\n",
    "        j = k - i\n",
    "        while i >= 0 and j <= m:\n",
    "            if [j, i] in puddles:\n",
    "                road[i][j] = 0\n",
    "            else:\n",
    "                if i == 0 and j == 0:\n",
    "                    road[i][j] = 1\n",
    "                else:\n",
    "                    if i == 0:\n",
    "                        if road[i][j-1] == 0:\n",
    "                            road[i][j] = 0\n",
    "                        else:\n",
    "                            road[i][j] = 1\n",
    "                    elif j == 0:\n",
    "                        if road[i-1][j] == 0:\n",
    "                            road[i][j] = 0\n",
    "                        else:\n",
    "                            road[i][j] = 1\n",
    "                    else:\n",
    "                        road[i][j] = road[i-1][j] + road[i][j-1] \n",
    "            i -= 1\n",
    "            j += 1\n",
    "        k += 1\n",
    "    return road[-1][-1] % 1000000007"
   ]
  },
  {
   "cell_type": "code",
   "execution_count": 2,
   "metadata": {},
   "outputs": [
    {
     "data": {
      "text/plain": [
       "4"
      ]
     },
     "execution_count": 2,
     "metadata": {},
     "output_type": "execute_result"
    }
   ],
   "source": [
    "solution(4, 3, [[2, 2]])"
   ]
  }
 ],
 "metadata": {
  "kernelspec": {
   "display_name": "Python 3",
   "language": "python",
   "name": "python3"
  },
  "language_info": {
   "codemirror_mode": {
    "name": "ipython",
    "version": 3
   },
   "file_extension": ".py",
   "mimetype": "text/x-python",
   "name": "python",
   "nbconvert_exporter": "python",
   "pygments_lexer": "ipython3",
   "version": "3.7.4"
  }
 },
 "nbformat": 4,
 "nbformat_minor": 2
}
