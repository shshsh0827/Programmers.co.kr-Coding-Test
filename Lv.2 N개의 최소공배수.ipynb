{
 "cells": [
  {
   "cell_type": "markdown",
   "id": "03852162",
   "metadata": {},
   "source": [
    "https://programmers.co.kr/learn/courses/30/lessons/12953\n",
    "\n",
    "문제 설명\n",
    "두 수의 최소공배수(Least Common Multiple)란 입력된 두 수의 배수 중 공통이 되는 가장 작은 숫자를 의미합니다. 예를 들어 2와 7의 최소공배수는 14가 됩니다. 정의를 확장해서, n개의 수의 최소공배수는 n 개의 수들의 배수 중 공통이 되는 가장 작은 숫자가 됩니다. n개의 숫자를 담은 배열 arr이 입력되었을 때 이 수들의 최소공배수를 반환하는 함수, solution을 완성해 주세요.\n",
    "\n",
    "제한 사항\n",
    "arr은 길이 1이상, 15이하인 배열입니다.\n",
    "arr의 원소는 100 이하인 자연수입니다.\n",
    "입출력 예\n",
    "arr\tresult\n",
    "[2,6,8,14]\t168\n",
    "[1,2,3]\t6"
   ]
  },
  {
   "cell_type": "code",
   "execution_count": 1,
   "id": "bbebbb75",
   "metadata": {},
   "outputs": [],
   "source": [
    "#첫번째\n",
    "from collections import Counter\n",
    "\n",
    "def solution(arr):\n",
    "    multiple = []\n",
    "    for n in arr:\n",
    "        lst = []\n",
    "        k = 2\n",
    "        while k < n**0.5 + 1:\n",
    "            qu, re = divmod(n, k)\n",
    "            if re == 0:\n",
    "                n = qu\n",
    "                lst.append(k)\n",
    "            else:\n",
    "                k += 1\n",
    "        lst.append(n)\n",
    "        multiple.append(lst)\n",
    "    answer = 1\n",
    "    for i in set([j for i in multiple for j in i]):\n",
    "        answer *= i ** max(list(map(lambda x: Counter(x)[i], multiple)))\n",
    "    return answer"
   ]
  },
  {
   "cell_type": "code",
   "execution_count": 2,
   "id": "8b67e7a7",
   "metadata": {},
   "outputs": [],
   "source": [
    "#두번째\n",
    "from math import gcd\n",
    "\n",
    "def solution(arr):\n",
    "    answer = 1\n",
    "    for n in arr:\n",
    "        answer = (answer * n) // gcd(answer, n)\n",
    "    return answer"
   ]
  },
  {
   "cell_type": "code",
   "execution_count": 3,
   "id": "1e34eab5",
   "metadata": {},
   "outputs": [
    {
     "data": {
      "text/plain": [
       "168"
      ]
     },
     "execution_count": 3,
     "metadata": {},
     "output_type": "execute_result"
    }
   ],
   "source": [
    "solution([2,6,8,14])"
   ]
  },
  {
   "cell_type": "code",
   "execution_count": 4,
   "id": "0c44c23a",
   "metadata": {},
   "outputs": [
    {
     "data": {
      "text/plain": [
       "6"
      ]
     },
     "execution_count": 4,
     "metadata": {},
     "output_type": "execute_result"
    }
   ],
   "source": [
    "solution([1,2,3])"
   ]
  }
 ],
 "metadata": {
  "kernelspec": {
   "display_name": "Python 3",
   "language": "python",
   "name": "python3"
  },
  "language_info": {
   "codemirror_mode": {
    "name": "ipython",
    "version": 3
   },
   "file_extension": ".py",
   "mimetype": "text/x-python",
   "name": "python",
   "nbconvert_exporter": "python",
   "pygments_lexer": "ipython3",
   "version": "3.8.8"
  }
 },
 "nbformat": 4,
 "nbformat_minor": 5
}
