{
 "cells": [
  {
   "cell_type": "markdown",
   "metadata": {},
   "source": [
    "https://programmers.co.kr/learn/courses/30/lessons/42584\n",
    "\n",
    "문제 설명\n",
    "초 단위로 기록된 주식가격이 담긴 배열 prices가 매개변수로 주어질 때, 가격이 떨어지지 않은 기간은 몇 초인지를 return 하도록 solution 함수를 완성하세요.\n",
    "\n",
    "제한사항\n",
    "prices의 각 가격은 1 이상 10,000 이하인 자연수입니다.\n",
    "prices의 길이는 2 이상 100,000 이하입니다.\n",
    "입출력 예\n",
    "prices\treturn\n",
    "[1, 2, 3, 2, 3]\t[4, 3, 1, 1, 0]\n",
    "입출력 예 설명\n",
    "1초 시점의 ₩1은 끝까지 가격이 떨어지지 않았습니다.\n",
    "2초 시점의 ₩2은 끝까지 가격이 떨어지지 않았습니다.\n",
    "3초 시점의 ₩3은 1초뒤에 가격이 떨어집니다. 따라서 1초간 가격이 떨어지지 않은 것으로 봅니다.\n",
    "4초 시점의 ₩2은 1초간 가격이 떨어지지 않았습니다.\n",
    "5초 시점의 ₩3은 0초간 가격이 떨어지지 않았습니다."
   ]
  },
  {
   "cell_type": "code",
   "execution_count": 1,
   "metadata": {},
   "outputs": [],
   "source": [
    "def solution(prices):\n",
    "    prices = list(zip(prices, range(len(prices))))\n",
    "    prices.reverse()\n",
    "    queue = []\n",
    "    n = -1\n",
    "    answer = []\n",
    "    while prices:\n",
    "        n += 1\n",
    "        price, idx = prices.pop()\n",
    "        while queue:\n",
    "            p, i = queue.pop()\n",
    "            if p > price:\n",
    "                answer.append((i, n - i))\n",
    "            else:\n",
    "                queue.append((p, i))\n",
    "                break\n",
    "        queue.append((price, idx))\n",
    "    else:\n",
    "        while queue:\n",
    "            p, i = queue.pop()\n",
    "            answer.append((i, n - i))\n",
    "    return list(map(lambda x: x[1], sorted(answer)))"
   ]
  },
  {
   "cell_type": "code",
   "execution_count": 2,
   "metadata": {},
   "outputs": [
    {
     "data": {
      "text/plain": [
       "[4, 3, 1, 1, 0]"
      ]
     },
     "execution_count": 2,
     "metadata": {},
     "output_type": "execute_result"
    }
   ],
   "source": [
    "solution([1, 2, 3, 2, 3])"
   ]
  }
 ],
 "metadata": {
  "kernelspec": {
   "display_name": "Python 3",
   "language": "python",
   "name": "python3"
  },
  "language_info": {
   "codemirror_mode": {
    "name": "ipython",
    "version": 3
   },
   "file_extension": ".py",
   "mimetype": "text/x-python",
   "name": "python",
   "nbconvert_exporter": "python",
   "pygments_lexer": "ipython3",
   "version": "3.7.4"
  }
 },
 "nbformat": 4,
 "nbformat_minor": 2
}
