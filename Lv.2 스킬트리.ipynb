{
 "cells": [
  {
   "cell_type": "markdown",
   "id": "e03b87b1",
   "metadata": {},
   "source": [
    "https://programmers.co.kr/learn/courses/30/lessons/49993\n",
    "\n",
    "문제 설명\n",
    "선행 스킬이란 어떤 스킬을 배우기 전에 먼저 배워야 하는 스킬을 뜻합니다.\n",
    "\n",
    "예를 들어 선행 스킬 순서가 스파크 → 라이트닝 볼트 → 썬더일때, 썬더를 배우려면 먼저 라이트닝 볼트를 배워야 하고, 라이트닝 볼트를 배우려면 먼저 스파크를 배워야 합니다.\n",
    "\n",
    "위 순서에 없는 다른 스킬(힐링 등)은 순서에 상관없이 배울 수 있습니다. 따라서 스파크 → 힐링 → 라이트닝 볼트 → 썬더와 같은 스킬트리는 가능하지만, 썬더 → 스파크나 라이트닝 볼트 → 스파크 → 힐링 → 썬더와 같은 스킬트리는 불가능합니다.\n",
    "\n",
    "선행 스킬 순서 skill과 유저들이 만든 스킬트리1를 담은 배열 skill_trees가 매개변수로 주어질 때, 가능한 스킬트리 개수를 return 하는 solution 함수를 작성해주세요.\n",
    "\n",
    "제한 조건\n",
    "스킬은 알파벳 대문자로 표기하며, 모든 문자열은 알파벳 대문자로만 이루어져 있습니다.\n",
    "스킬 순서와 스킬트리는 문자열로 표기합니다.\n",
    "예를 들어, C → B → D 라면 \"CBD\"로 표기합니다\n",
    "선행 스킬 순서 skill의 길이는 1 이상 26 이하이며, 스킬은 중복해 주어지지 않습니다.\n",
    "skill_trees는 길이 1 이상 20 이하인 배열입니다.\n",
    "skill_trees의 원소는 스킬을 나타내는 문자열입니다.\n",
    "skill_trees의 원소는 길이가 2 이상 26 이하인 문자열이며, 스킬이 중복해 주어지지 않습니다.\n",
    "입출력 예\n",
    "skill\tskill_trees\treturn\n",
    "\"CBD\"\t[\"BACDE\", \"CBADF\", \"AECB\", \"BDA\"]\t2\n",
    "입출력 예 설명\n",
    "\"BACDE\": B 스킬을 배우기 전에 C 스킬을 먼저 배워야 합니다. 불가능한 스킬트립니다.\n",
    "\"CBADF\": 가능한 스킬트리입니다.\n",
    "\"AECB\": 가능한 스킬트리입니다.\n",
    "\"BDA\": B 스킬을 배우기 전에 C 스킬을 먼저 배워야 합니다. 불가능한 스킬트리입니다."
   ]
  },
  {
   "cell_type": "code",
   "execution_count": 1,
   "id": "af55b2e8",
   "metadata": {},
   "outputs": [],
   "source": [
    "#첫번째\n",
    "from collections import deque\n",
    "\n",
    "def solution(skill, skill_trees):\n",
    "    answer = 0\n",
    "    for skill_tree in skill_trees:\n",
    "        order = skill\n",
    "        right_tree = False\n",
    "        for skills in skill_tree:\n",
    "            right_order = False\n",
    "            skills = deque(skills)\n",
    "            order = deque(order)\n",
    "            while skills:\n",
    "                s = deque.popleft(skills)\n",
    "                if s in order:\n",
    "                    if s != deque.popleft(order):\n",
    "                        break\n",
    "            else:\n",
    "                right_order = True\n",
    "            if not right_order:\n",
    "                break\n",
    "        else:\n",
    "            right_tree = True\n",
    "        if right_tree: answer += 1\n",
    "    return answer"
   ]
  },
  {
   "cell_type": "code",
   "execution_count": 2,
   "id": "502542fb",
   "metadata": {},
   "outputs": [],
   "source": [
    "#두번째\n",
    "def solution(skill, skill_trees):\n",
    "    answer = 0\n",
    "    skill = list(skill)\n",
    "    skill.reverse()\n",
    "    for skill_tree in skill_trees:\n",
    "        order = skill.copy()\n",
    "        for s in skill_tree:\n",
    "            if s in order:\n",
    "                if s != order.pop():\n",
    "                    break\n",
    "        else: answer += 1\n",
    "    return answer"
   ]
  },
  {
   "cell_type": "code",
   "execution_count": 3,
   "id": "65ab975e",
   "metadata": {},
   "outputs": [
    {
     "data": {
      "text/plain": [
       "2"
      ]
     },
     "execution_count": 3,
     "metadata": {},
     "output_type": "execute_result"
    }
   ],
   "source": [
    "solution(\"CBD\", [\"BACDE\", \"CBADF\", \"AECB\", \"BDA\"])"
   ]
  }
 ],
 "metadata": {
  "kernelspec": {
   "display_name": "Python 3",
   "language": "python",
   "name": "python3"
  },
  "language_info": {
   "codemirror_mode": {
    "name": "ipython",
    "version": 3
   },
   "file_extension": ".py",
   "mimetype": "text/x-python",
   "name": "python",
   "nbconvert_exporter": "python",
   "pygments_lexer": "ipython3",
   "version": "3.8.8"
  }
 },
 "nbformat": 4,
 "nbformat_minor": 5
}
