{
 "cells": [
  {
   "cell_type": "markdown",
   "id": "ce76600f",
   "metadata": {},
   "source": [
    "https://programmers.co.kr/learn/courses/30/lessons/12934\n",
    "\n",
    "문제 설명\n",
    "임의의 양의 정수 n에 대해, n이 어떤 양의 정수 x의 제곱인지 아닌지 판단하려 합니다.\n",
    "n이 양의 정수 x의 제곱이라면 x+1의 제곱을 리턴하고, n이 양의 정수 x의 제곱이 아니라면 -1을 리턴하는 함수를 완성하세요.\n",
    "\n",
    "제한 사항\n",
    "n은 1이상, 50000000000000 이하인 양의 정수입니다.\n",
    "입출력 예\n",
    "n\treturn\n",
    "121\t144\n",
    "3\t-1\n",
    "입출력 예 설명\n",
    "입출력 예#1\n",
    "121은 양의 정수 11의 제곱이므로, (11+1)를 제곱한 144를 리턴합니다.\n",
    "\n",
    "입출력 예#2\n",
    "3은 양의 정수의 제곱이 아니므로, -1을 리턴합니다."
   ]
  },
  {
   "cell_type": "code",
   "execution_count": 1,
   "id": "48f86b66",
   "metadata": {},
   "outputs": [],
   "source": [
    "def solution(n):\n",
    "    return ((n ** 0.5) + 1) ** 2 if (n ** 0.5).is_integer() else -1"
   ]
  },
  {
   "cell_type": "code",
   "execution_count": 2,
   "id": "2db39735",
   "metadata": {},
   "outputs": [
    {
     "data": {
      "text/plain": [
       "144.0"
      ]
     },
     "execution_count": 2,
     "metadata": {},
     "output_type": "execute_result"
    }
   ],
   "source": [
    "solution(121)"
   ]
  },
  {
   "cell_type": "code",
   "execution_count": 3,
   "id": "6c0553fd",
   "metadata": {},
   "outputs": [
    {
     "data": {
      "text/plain": [
       "-1"
      ]
     },
     "execution_count": 3,
     "metadata": {},
     "output_type": "execute_result"
    }
   ],
   "source": [
    "solution(3)"
   ]
  }
 ],
 "metadata": {
  "kernelspec": {
   "display_name": "Python 3",
   "language": "python",
   "name": "python3"
  },
  "language_info": {
   "codemirror_mode": {
    "name": "ipython",
    "version": 3
   },
   "file_extension": ".py",
   "mimetype": "text/x-python",
   "name": "python",
   "nbconvert_exporter": "python",
   "pygments_lexer": "ipython3",
   "version": "3.8.8"
  }
 },
 "nbformat": 4,
 "nbformat_minor": 5
}
