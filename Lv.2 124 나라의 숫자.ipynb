{
 "cells": [
  {
   "cell_type": "markdown",
   "id": "ea86ac06",
   "metadata": {},
   "source": [
    "https://programmers.co.kr/learn/courses/30/lessons/12899\n",
    "\n",
    "문제 설명\n",
    "124 나라가 있습니다. 124 나라에서는 10진법이 아닌 다음과 같은 자신들만의 규칙으로 수를 표현합니다.\n",
    "\n",
    "124 나라에는 자연수만 존재합니다.\n",
    "124 나라에는 모든 수를 표현할 때 1, 2, 4만 사용합니다.\n",
    "예를 들어서 124 나라에서 사용하는 숫자는 다음과 같이 변환됩니다.\n",
    "\n",
    "10진법\t124 나라\t10진법\t124 나라\n",
    "1\t1\t6\t14\n",
    "2\t2\t7\t21\n",
    "3\t4\t8\t22\n",
    "4\t11\t9\t24\n",
    "5\t12\t10\t41\n",
    "자연수 n이 매개변수로 주어질 때, n을 124 나라에서 사용하는 숫자로 바꾼 값을 return 하도록 solution 함수를 완성해 주세요.\n",
    "\n",
    "제한사항\n",
    "n은 500,000,000이하의 자연수 입니다.\n",
    "입출력 예\n",
    "n\tresult\n",
    "1\t1\n",
    "2\t2\n",
    "3\t4\n",
    "4\t11"
   ]
  },
  {
   "cell_type": "code",
   "execution_count": 1,
   "id": "27a4dbb6",
   "metadata": {},
   "outputs": [],
   "source": [
    "def solution(n):\n",
    "    lst = '124'\n",
    "    qu, re = divmod(n-1, 3)\n",
    "    if qu == 0:\n",
    "        return lst[re]\n",
    "    else:\n",
    "        return solution(qu) + lst[re]"
   ]
  },
  {
   "cell_type": "code",
   "execution_count": 2,
   "id": "00a76cfb",
   "metadata": {},
   "outputs": [
    {
     "data": {
      "text/plain": [
       "'1'"
      ]
     },
     "execution_count": 2,
     "metadata": {},
     "output_type": "execute_result"
    }
   ],
   "source": [
    "solution(1)"
   ]
  },
  {
   "cell_type": "code",
   "execution_count": 3,
   "id": "e1d41106",
   "metadata": {},
   "outputs": [
    {
     "data": {
      "text/plain": [
       "'2'"
      ]
     },
     "execution_count": 3,
     "metadata": {},
     "output_type": "execute_result"
    }
   ],
   "source": [
    "solution(2)"
   ]
  },
  {
   "cell_type": "code",
   "execution_count": 4,
   "id": "4a4b1571",
   "metadata": {},
   "outputs": [
    {
     "data": {
      "text/plain": [
       "'4'"
      ]
     },
     "execution_count": 4,
     "metadata": {},
     "output_type": "execute_result"
    }
   ],
   "source": [
    "solution(3)"
   ]
  },
  {
   "cell_type": "code",
   "execution_count": 5,
   "id": "c4d0adb9",
   "metadata": {},
   "outputs": [
    {
     "data": {
      "text/plain": [
       "'11'"
      ]
     },
     "execution_count": 5,
     "metadata": {},
     "output_type": "execute_result"
    }
   ],
   "source": [
    "solution(4)"
   ]
  }
 ],
 "metadata": {
  "kernelspec": {
   "display_name": "Python 3",
   "language": "python",
   "name": "python3"
  },
  "language_info": {
   "codemirror_mode": {
    "name": "ipython",
    "version": 3
   },
   "file_extension": ".py",
   "mimetype": "text/x-python",
   "name": "python",
   "nbconvert_exporter": "python",
   "pygments_lexer": "ipython3",
   "version": "3.8.8"
  }
 },
 "nbformat": 4,
 "nbformat_minor": 5
}
