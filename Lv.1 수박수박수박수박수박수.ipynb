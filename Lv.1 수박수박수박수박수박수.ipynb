{
 "cells": [
  {
   "cell_type": "markdown",
   "id": "61757b5b",
   "metadata": {},
   "source": [
    "https://programmers.co.kr/learn/courses/30/lessons/12922\n",
    "\n",
    "문제 설명\n",
    "길이가 n이고, \"수박수박수박수....\"와 같은 패턴을 유지하는 문자열을 리턴하는 함수, solution을 완성하세요. 예를들어 n이 4이면 \"수박수박\"을 리턴하고 3이라면 \"수박수\"를 리턴하면 됩니다.\n",
    "\n",
    "제한 조건\n",
    "n은 길이 10,000이하인 자연수입니다.\n",
    "입출력 예\n",
    "n\treturn\n",
    "3\t\"수박수\"\n",
    "4\t\"수박수박\""
   ]
  },
  {
   "cell_type": "code",
   "execution_count": 1,
   "id": "20dfa9dd",
   "metadata": {},
   "outputs": [],
   "source": [
    "def solution(n):\n",
    "    qu, re = divmod(n, 2)\n",
    "    return '수박' * qu + '수' * re"
   ]
  },
  {
   "cell_type": "code",
   "execution_count": 2,
   "id": "8871e190",
   "metadata": {},
   "outputs": [
    {
     "data": {
      "text/plain": [
       "'수박수'"
      ]
     },
     "execution_count": 2,
     "metadata": {},
     "output_type": "execute_result"
    }
   ],
   "source": [
    "solution(3)"
   ]
  },
  {
   "cell_type": "code",
   "execution_count": 3,
   "id": "f78f6436",
   "metadata": {},
   "outputs": [
    {
     "data": {
      "text/plain": [
       "'수박수박'"
      ]
     },
     "execution_count": 3,
     "metadata": {},
     "output_type": "execute_result"
    }
   ],
   "source": [
    "solution(4)"
   ]
  }
 ],
 "metadata": {
  "kernelspec": {
   "display_name": "Python 3",
   "language": "python",
   "name": "python3"
  },
  "language_info": {
   "codemirror_mode": {
    "name": "ipython",
    "version": 3
   },
   "file_extension": ".py",
   "mimetype": "text/x-python",
   "name": "python",
   "nbconvert_exporter": "python",
   "pygments_lexer": "ipython3",
   "version": "3.8.8"
  }
 },
 "nbformat": 4,
 "nbformat_minor": 5
}
