{
 "cells": [
  {
   "cell_type": "markdown",
   "id": "e3696b0d",
   "metadata": {},
   "source": [
    "https://programmers.co.kr/learn/courses/30/lessons/12909\n",
    "\n",
    "문제 설명\n",
    "괄호가 바르게 짝지어졌다는 것은 '(' 문자로 열렸으면 반드시 짝지어서 ')' 문자로 닫혀야 한다는 뜻입니다. 예를 들어\n",
    "\n",
    "\"()()\" 또는 \"(())()\" 는 올바른 괄호입니다.\n",
    "\")()(\" 또는 \"(()(\" 는 올바르지 않은 괄호입니다.\n",
    "'(' 또는 ')' 로만 이루어진 문자열 s가 주어졌을 때, 문자열 s가 올바른 괄호이면 true를 return 하고, 올바르지 않은 괄호이면 false를 return 하는 solution 함수를 완성해 주세요.\n",
    "\n",
    "제한사항\n",
    "문자열 s의 길이 : 100,000 이하의 자연수\n",
    "문자열 s는 '(' 또는 ')' 로만 이루어져 있습니다.\n",
    "입출력 예\n",
    "s\tanswer\n",
    "\"()()\"\ttrue\n",
    "\"(())()\"\ttrue\n",
    "\")()(\"\tfalse\n",
    "\"(()(\"\tfalse\n",
    "입출력 예 설명\n",
    "입출력 예 #1,2,3,4\n",
    "문제의 예시와 같습니다."
   ]
  },
  {
   "cell_type": "code",
   "execution_count": 1,
   "id": "f1f5715c",
   "metadata": {},
   "outputs": [],
   "source": [
    "#첫번째\n",
    "def solution(s):\n",
    "    s = list(s)\n",
    "    total = 0\n",
    "    while s:\n",
    "        parenthesis = s.pop()\n",
    "        if parenthesis == ')':\n",
    "            total += 1\n",
    "        else:\n",
    "            total -= 1\n",
    "        if total < 0:\n",
    "            return False\n",
    "    else:\n",
    "        if total:\n",
    "            return False\n",
    "        else:\n",
    "            return True"
   ]
  },
  {
   "cell_type": "code",
   "execution_count": 2,
   "id": "c91cf923",
   "metadata": {},
   "outputs": [],
   "source": [
    "#두번째\n",
    "def solution(s):\n",
    "    total = 0\n",
    "    for p in s:\n",
    "        if p == '(': total += 1\n",
    "        else: total -= 1\n",
    "        if total < 0 : return False\n",
    "    if total: return False\n",
    "    return True"
   ]
  },
  {
   "cell_type": "code",
   "execution_count": 3,
   "id": "e58efb77",
   "metadata": {},
   "outputs": [
    {
     "data": {
      "text/plain": [
       "True"
      ]
     },
     "execution_count": 3,
     "metadata": {},
     "output_type": "execute_result"
    }
   ],
   "source": [
    "solution(\"()()\")"
   ]
  },
  {
   "cell_type": "code",
   "execution_count": 4,
   "id": "916c5906",
   "metadata": {},
   "outputs": [
    {
     "data": {
      "text/plain": [
       "True"
      ]
     },
     "execution_count": 4,
     "metadata": {},
     "output_type": "execute_result"
    }
   ],
   "source": [
    "solution(\"(())()\")"
   ]
  },
  {
   "cell_type": "code",
   "execution_count": 5,
   "id": "51d7b89e",
   "metadata": {},
   "outputs": [
    {
     "data": {
      "text/plain": [
       "False"
      ]
     },
     "execution_count": 5,
     "metadata": {},
     "output_type": "execute_result"
    }
   ],
   "source": [
    "solution(\")()(\")"
   ]
  },
  {
   "cell_type": "code",
   "execution_count": 6,
   "id": "64d1a91d",
   "metadata": {},
   "outputs": [
    {
     "data": {
      "text/plain": [
       "False"
      ]
     },
     "execution_count": 6,
     "metadata": {},
     "output_type": "execute_result"
    }
   ],
   "source": [
    "solution(\"(()(\")"
   ]
  }
 ],
 "metadata": {
  "kernelspec": {
   "display_name": "Python 3",
   "language": "python",
   "name": "python3"
  },
  "language_info": {
   "codemirror_mode": {
    "name": "ipython",
    "version": 3
   },
   "file_extension": ".py",
   "mimetype": "text/x-python",
   "name": "python",
   "nbconvert_exporter": "python",
   "pygments_lexer": "ipython3",
   "version": "3.8.8"
  }
 },
 "nbformat": 4,
 "nbformat_minor": 5
}
