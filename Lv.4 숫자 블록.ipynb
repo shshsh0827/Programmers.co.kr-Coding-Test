{
 "cells": [
  {
   "cell_type": "markdown",
   "metadata": {},
   "source": [
    "https://programmers.co.kr/learn/courses/30/lessons/12923\n",
    "\n",
    "문제 설명\n",
    "그렙시에는 0으로 된 도로에 숫자 블록을 설치하기로 하였습니다. 숫자 블록의 규칙은 다음과 같습니다.\n",
    "\n",
    "블록의 번호가 n 일 때, 가장 처음 블록은 n * 2번째 위치에 설치합니다. 그다음은 n * 3, 그다음은 n * 4, ...로 진행합니다.만약 기존에 블록이 깔려있는 자리라면 그 블록을빼고 새로운 블록으로 집어넣습니다.\n",
    "\n",
    "예를 들어 1번 블록은 2,3,4,5, ... 인 위치에 우선 설치합니다. 그다음 2번 블록은 4,6,8,10, ... 인 위치에 설치하고, 3번 블록은 6,9,12... 인 위치에 설치합니다.\n",
    "\n",
    "이렇게 3번 블록까지 설치하고 나면 첫 10개의 블록은 0, 1, 1, 2, 1, 3, 1, 2, 3, 2이됩니다.\n",
    "\n",
    "그렙시는 길이가 1,000,000,000인 도로에 1번 블록부터 시작하여 10,000,000번 블록까지 위의 규칙으로 모두 놓았습니다.\n",
    "\n",
    "그렙시의 시장님은 특정 구간의 어떤 블록이 깔려 있는지 알고 싶습니다.\n",
    "\n",
    "구간을 나타내는 두 수 begin, end 가 매개변수로 주어 질 때, 그 구간에 깔려 있는 블록의 숫자 배열(리스트)을 return하는 solution 함수를 완성해 주세요.\n",
    "\n",
    "제한 사항\n",
    "begin, end 는 1 이상 1,000,000,000이하의 자연수 이고, begin는 항상 end보다 작습니다.\n",
    "end - begin 의 값은 항상 10,000을 넘지 않습니다.\n",
    "입출력 예\n",
    "begin\tend\tresult\n",
    "1\t10\t[0, 1, 1, 2, 1, 3, 1, 4, 3, 5]\n",
    "입출력 예 설명\n",
    "입출력 예 #1\n",
    "다음과 같이 블럭이 깔리게 됩니다.\n",
    "Imgur"
   ]
  },
  {
   "cell_type": "code",
   "execution_count": 1,
   "metadata": {},
   "outputs": [],
   "source": [
    "def solution(begin, end):\n",
    "    answer = []\n",
    "    for i in range(begin, end + 1):\n",
    "        if i == 1:\n",
    "            answer.append(0)\n",
    "        else:\n",
    "            answer.append(1)\n",
    "            for j in range(max(2, i // 10000000), int(i ** 0.5 + 1)):\n",
    "                if i % j == 0 and i / j <= 10000000:\n",
    "                    answer.pop()\n",
    "                    answer.append(i / j)\n",
    "                    break\n",
    "    return answer"
   ]
  },
  {
   "cell_type": "code",
   "execution_count": 2,
   "metadata": {},
   "outputs": [
    {
     "data": {
      "text/plain": [
       "[0, 1, 1, 2.0, 1, 3.0, 1, 4.0, 3.0, 5.0]"
      ]
     },
     "execution_count": 2,
     "metadata": {},
     "output_type": "execute_result"
    }
   ],
   "source": [
    "solution(1, 10)"
   ]
  }
 ],
 "metadata": {
  "kernelspec": {
   "display_name": "Python 3",
   "language": "python",
   "name": "python3"
  },
  "language_info": {
   "codemirror_mode": {
    "name": "ipython",
    "version": 3
   },
   "file_extension": ".py",
   "mimetype": "text/x-python",
   "name": "python",
   "nbconvert_exporter": "python",
   "pygments_lexer": "ipython3",
   "version": "3.7.4"
  }
 },
 "nbformat": 4,
 "nbformat_minor": 2
}
