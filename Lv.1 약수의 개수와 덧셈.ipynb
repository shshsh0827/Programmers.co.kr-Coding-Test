{
 "cells": [
  {
   "cell_type": "markdown",
   "id": "943daa2a",
   "metadata": {},
   "source": [
    "https://programmers.co.kr/learn/courses/30/lessons/77884\n",
    "\n",
    "문제 설명\n",
    "두 정수 left와 right가 매개변수로 주어집니다. left부터 right까지의 모든 수들 중에서, 약수의 개수가 짝수인 수는 더하고, 약수의 개수가 홀수인 수는 뺀 수를 return 하도록 solution 함수를 완성해주세요.\n",
    "\n",
    "제한사항\n",
    "1 ≤ left ≤ right ≤ 1,000\n",
    "입출력 예\n",
    "left\tright\tresult\n",
    "13\t17\t43\n",
    "24\t27\t52\n",
    "입출력 예 설명\n",
    "입출력 예 #1\n",
    "\n",
    "다음 표는 13부터 17까지의 수들의 약수를 모두 나타낸 것입니다.\n",
    "수\t약수\t약수의 개수\n",
    "13\t1, 13\t2\n",
    "14\t1, 2, 7, 14\t4\n",
    "15\t1, 3, 5, 15\t4\n",
    "16\t1, 2, 4, 8, 16\t5\n",
    "17\t1, 17\t2\n",
    "따라서, 13 + 14 + 15 - 16 + 17 = 43을 return 해야 합니다.\n",
    "입출력 예 #2\n",
    "\n",
    "다음 표는 24부터 27까지의 수들의 약수를 모두 나타낸 것입니다.\n",
    "수\t약수\t약수의 개수\n",
    "24\t1, 2, 3, 4, 6, 8, 12, 24\t8\n",
    "25\t1, 5, 25\t3\n",
    "26\t1, 2, 13, 26\t4\n",
    "27\t1, 3, 9, 27\t4\n",
    "따라서, 24 - 25 + 26 + 27 = 52를 return 해야 합니다."
   ]
  },
  {
   "cell_type": "code",
   "execution_count": 1,
   "id": "a4a83b52",
   "metadata": {},
   "outputs": [],
   "source": [
    "import math\n",
    "def solution(left, right):\n",
    "    return sum([-i if math.sqrt(i).is_integer() else i for i in range(left, right+1)])"
   ]
  },
  {
   "cell_type": "code",
   "execution_count": 2,
   "id": "6e924138",
   "metadata": {},
   "outputs": [
    {
     "data": {
      "text/plain": [
       "43"
      ]
     },
     "execution_count": 2,
     "metadata": {},
     "output_type": "execute_result"
    }
   ],
   "source": [
    "solution(13, 17)"
   ]
  },
  {
   "cell_type": "code",
   "execution_count": 3,
   "id": "e072c69d",
   "metadata": {},
   "outputs": [
    {
     "data": {
      "text/plain": [
       "52"
      ]
     },
     "execution_count": 3,
     "metadata": {},
     "output_type": "execute_result"
    }
   ],
   "source": [
    "solution(24, 27)"
   ]
  }
 ],
 "metadata": {
  "kernelspec": {
   "display_name": "Python 3",
   "language": "python",
   "name": "python3"
  },
  "language_info": {
   "codemirror_mode": {
    "name": "ipython",
    "version": 3
   },
   "file_extension": ".py",
   "mimetype": "text/x-python",
   "name": "python",
   "nbconvert_exporter": "python",
   "pygments_lexer": "ipython3",
   "version": "3.8.8"
  }
 },
 "nbformat": 4,
 "nbformat_minor": 5
}
