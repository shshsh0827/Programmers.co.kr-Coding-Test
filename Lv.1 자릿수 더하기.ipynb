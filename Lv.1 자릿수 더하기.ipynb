{
 "cells": [
  {
   "cell_type": "markdown",
   "id": "a61a98bf",
   "metadata": {},
   "source": [
    "https://programmers.co.kr/learn/courses/30/lessons/12931\n",
    "\n",
    "문제 설명\n",
    "자연수 N이 주어지면, N의 각 자릿수의 합을 구해서 return 하는 solution 함수를 만들어 주세요.\n",
    "예를들어 N = 123이면 1 + 2 + 3 = 6을 return 하면 됩니다.\n",
    "\n",
    "제한사항\n",
    "N의 범위 : 100,000,000 이하의 자연수\n",
    "입출력 예\n",
    "N\tanswer\n",
    "123\t6\n",
    "987\t24\n",
    "입출력 예 설명\n",
    "입출력 예 #1\n",
    "문제의 예시와 같습니다.\n",
    "\n",
    "입출력 예 #2\n",
    "9 + 8 + 7 = 24이므로 24를 return 하면 됩니다."
   ]
  },
  {
   "cell_type": "code",
   "execution_count": 1,
   "id": "b4f76023",
   "metadata": {},
   "outputs": [],
   "source": [
    "def solution(n):\n",
    "    return sum([int(i) for i in str(n)])"
   ]
  },
  {
   "cell_type": "code",
   "execution_count": 2,
   "id": "c519b8dc",
   "metadata": {},
   "outputs": [
    {
     "data": {
      "text/plain": [
       "6"
      ]
     },
     "execution_count": 2,
     "metadata": {},
     "output_type": "execute_result"
    }
   ],
   "source": [
    "solution(123)"
   ]
  },
  {
   "cell_type": "code",
   "execution_count": 3,
   "id": "20c1803d",
   "metadata": {},
   "outputs": [
    {
     "data": {
      "text/plain": [
       "24"
      ]
     },
     "execution_count": 3,
     "metadata": {},
     "output_type": "execute_result"
    }
   ],
   "source": [
    "solution(987)"
   ]
  }
 ],
 "metadata": {
  "kernelspec": {
   "display_name": "Python 3",
   "language": "python",
   "name": "python3"
  },
  "language_info": {
   "codemirror_mode": {
    "name": "ipython",
    "version": 3
   },
   "file_extension": ".py",
   "mimetype": "text/x-python",
   "name": "python",
   "nbconvert_exporter": "python",
   "pygments_lexer": "ipython3",
   "version": "3.8.8"
  }
 },
 "nbformat": 4,
 "nbformat_minor": 5
}
