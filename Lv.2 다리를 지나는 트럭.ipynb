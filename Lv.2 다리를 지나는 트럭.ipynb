{
 "cells": [
  {
   "cell_type": "markdown",
   "id": "a56bab52",
   "metadata": {},
   "source": [
    "https://programmers.co.kr/learn/courses/30/lessons/42583\n",
    "\n",
    "문제 설명\n",
    "트럭 여러 대가 강을 가로지르는 일차선 다리를 정해진 순으로 건너려 합니다. 모든 트럭이 다리를 건너려면 최소 몇 초가 걸리는지 알아내야 합니다. 다리에는 트럭이 최대 bridge_length대 올라갈 수 있으며, 다리는 weight 이하까지의 무게를 견딜 수 있습니다. 단, 다리에 완전히 오르지 않은 트럭의 무게는 무시합니다.\n",
    "\n",
    "예를 들어, 트럭 2대가 올라갈 수 있고 무게를 10kg까지 견디는 다리가 있습니다. 무게가 [7, 4, 5, 6]kg인 트럭이 순서대로 최단 시간 안에 다리를 건너려면 다음과 같이 건너야 합니다.\n",
    "\n",
    "경과 시간\t다리를 지난 트럭\t다리를 건너는 트럭\t대기 트럭\n",
    "0\t[]\t[]\t[7,4,5,6]\n",
    "1~2\t[]\t[7]\t[4,5,6]\n",
    "3\t[7]\t[4]\t[5,6]\n",
    "4\t[7]\t[4,5]\t[6]\n",
    "5\t[7,4]\t[5]\t[6]\n",
    "6~7\t[7,4,5]\t[6]\t[]\n",
    "8\t[7,4,5,6]\t[]\t[]\n",
    "따라서, 모든 트럭이 다리를 지나려면 최소 8초가 걸립니다.\n",
    "\n",
    "solution 함수의 매개변수로 다리에 올라갈 수 있는 트럭 수 bridge_length, 다리가 견딜 수 있는 무게 weight, 트럭 별 무게 truck_weights가 주어집니다. 이때 모든 트럭이 다리를 건너려면 최소 몇 초가 걸리는지 return 하도록 solution 함수를 완성하세요.\n",
    "\n",
    "제한 조건\n",
    "bridge_length는 1 이상 10,000 이하입니다.\n",
    "weight는 1 이상 10,000 이하입니다.\n",
    "truck_weights의 길이는 1 이상 10,000 이하입니다.\n",
    "모든 트럭의 무게는 1 이상 weight 이하입니다.\n",
    "입출력 예\n",
    "bridge_length\tweight\ttruck_weights\treturn\n",
    "2\t10\t[7,4,5,6]\t8\n",
    "100\t100\t[10]\t101\n",
    "100\t100\t[10,10,10,10,10,10,10,10,10,10]\t110"
   ]
  },
  {
   "cell_type": "code",
   "execution_count": 1,
   "id": "006f858d",
   "metadata": {},
   "outputs": [],
   "source": [
    "#첫번째\n",
    "from collections import deque\n",
    "\n",
    "def solution(bridge_length, weight, truck_weights):\n",
    "    truck_weights.reverse()\n",
    "    queue = deque([0] * bridge_length, maxlen=bridge_length)\n",
    "    time = 0\n",
    "    while truck_weights:\n",
    "        deque.popleft(queue)\n",
    "        truck = truck_weights.pop()\n",
    "        if sum(queue) + truck <= weight:\n",
    "            deque.append(queue, truck)\n",
    "            time += 1\n",
    "        else:\n",
    "            truck_weights.append(truck)\n",
    "            deque.append(queue, 0)\n",
    "            time += 1\n",
    "        if not truck_weights:\n",
    "            time += bridge_length\n",
    "    return time"
   ]
  },
  {
   "cell_type": "code",
   "execution_count": 2,
   "id": "b5c30581",
   "metadata": {},
   "outputs": [],
   "source": [
    "#두번째 (소요시간 대폭 감소)\n",
    "from collections import deque\n",
    "\n",
    "def solution(bridge_length, weight, truck_weights):\n",
    "    truck_weights.reverse()\n",
    "    queue = deque([0] * bridge_length, maxlen=bridge_length)\n",
    "    total = 0\n",
    "    time = 0\n",
    "    while truck_weights:\n",
    "        total -= deque.popleft(queue)\n",
    "        truck = truck_weights.pop()\n",
    "        if total + truck <= weight:\n",
    "            deque.append(queue, truck)\n",
    "            total += truck\n",
    "            time += 1\n",
    "        else:\n",
    "            truck_weights.append(truck)\n",
    "            deque.append(queue, 0)\n",
    "            time += 1\n",
    "    time += bridge_length\n",
    "    return time"
   ]
  },
  {
   "cell_type": "code",
   "execution_count": 3,
   "id": "f4b74420",
   "metadata": {},
   "outputs": [
    {
     "data": {
      "text/plain": [
       "8"
      ]
     },
     "execution_count": 3,
     "metadata": {},
     "output_type": "execute_result"
    }
   ],
   "source": [
    "solution(2, 10, [7,4,5,6])"
   ]
  },
  {
   "cell_type": "code",
   "execution_count": 4,
   "id": "9d71399d",
   "metadata": {},
   "outputs": [
    {
     "data": {
      "text/plain": [
       "101"
      ]
     },
     "execution_count": 4,
     "metadata": {},
     "output_type": "execute_result"
    }
   ],
   "source": [
    "solution(100, 100, [10])"
   ]
  },
  {
   "cell_type": "code",
   "execution_count": 5,
   "id": "1ca8f633",
   "metadata": {},
   "outputs": [
    {
     "data": {
      "text/plain": [
       "110"
      ]
     },
     "execution_count": 5,
     "metadata": {},
     "output_type": "execute_result"
    }
   ],
   "source": [
    "solution(100, 100, [10,10,10,10,10,10,10,10,10,10])"
   ]
  }
 ],
 "metadata": {
  "kernelspec": {
   "display_name": "Python 3",
   "language": "python",
   "name": "python3"
  },
  "language_info": {
   "codemirror_mode": {
    "name": "ipython",
    "version": 3
   },
   "file_extension": ".py",
   "mimetype": "text/x-python",
   "name": "python",
   "nbconvert_exporter": "python",
   "pygments_lexer": "ipython3",
   "version": "3.8.8"
  }
 },
 "nbformat": 4,
 "nbformat_minor": 5
}
