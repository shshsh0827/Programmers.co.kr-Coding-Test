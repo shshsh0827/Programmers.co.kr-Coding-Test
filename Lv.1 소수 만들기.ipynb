{
 "cells": [
  {
   "cell_type": "markdown",
   "metadata": {},
   "source": [
    "https://programmers.co.kr/learn/courses/30/lessons/12977\n",
    "\n",
    "문제 설명\n",
    "주어진 숫자 중 3개의 수를 더했을 때 소수가 되는 경우의 개수를 구하려고 합니다. 숫자들이 들어있는 배열 nums가 매개변수로 주어질 때, nums에 있는 숫자들 중 서로 다른 3개를 골라 더했을 때 소수가 되는 경우의 개수를 return 하도록 solution 함수를 완성해주세요.\n",
    "\n",
    "제한사항\n",
    "nums에 들어있는 숫자의 개수는 3개 이상 50개 이하입니다.\n",
    "nums의 각 원소는 1 이상 1,000 이하의 자연수이며, 중복된 숫자가 들어있지 않습니다.\n",
    "입출력 예\n",
    "nums\tresult\n",
    "[1,2,3,4]\t1\n",
    "[1,2,7,6,4]\t4\n",
    "입출력 예 설명\n",
    "입출력 예 #1\n",
    "[1,2,4]를 이용해서 7을 만들 수 있습니다.\n",
    "\n",
    "입출력 예 #2\n",
    "[1,2,4]를 이용해서 7을 만들 수 있습니다.\n",
    "[1,4,6]을 이용해서 11을 만들 수 있습니다.\n",
    "[2,4,7]을 이용해서 13을 만들 수 있습니다.\n",
    "[4,6,7]을 이용해서 17을 만들 수 있습니다."
   ]
  },
  {
   "cell_type": "code",
   "execution_count": 1,
   "metadata": {},
   "outputs": [],
   "source": [
    "def solution(nums):\n",
    "    answer = 0\n",
    "    lenNums = len(nums)\n",
    "    for i in range(lenNums-2):\n",
    "        for j in range(i+1,lenNums-1):\n",
    "            for k in range(j+1,lenNums):\n",
    "                num = nums[i] + nums[j] + nums[k]\n",
    "                for l in range(2, num):\n",
    "                    if num%l == 0:\n",
    "                        break\n",
    "                    if l == num-1:\n",
    "                        answer += 1\n",
    "    return answer"
   ]
  },
  {
   "cell_type": "code",
   "execution_count": 2,
   "metadata": {},
   "outputs": [
    {
     "data": {
      "text/plain": [
       "1"
      ]
     },
     "execution_count": 2,
     "metadata": {},
     "output_type": "execute_result"
    }
   ],
   "source": [
    "solution([1,2,3,4])"
   ]
  },
  {
   "cell_type": "code",
   "execution_count": 3,
   "metadata": {},
   "outputs": [
    {
     "data": {
      "text/plain": [
       "4"
      ]
     },
     "execution_count": 3,
     "metadata": {},
     "output_type": "execute_result"
    }
   ],
   "source": [
    "solution([1,2,7,6,4])"
   ]
  }
 ],
 "metadata": {
  "kernelspec": {
   "display_name": "Python 3",
   "language": "python",
   "name": "python3"
  },
  "language_info": {
   "codemirror_mode": {
    "name": "ipython",
    "version": 3
   },
   "file_extension": ".py",
   "mimetype": "text/x-python",
   "name": "python",
   "nbconvert_exporter": "python",
   "pygments_lexer": "ipython3",
   "version": "3.7.4"
  }
 },
 "nbformat": 4,
 "nbformat_minor": 2
}
