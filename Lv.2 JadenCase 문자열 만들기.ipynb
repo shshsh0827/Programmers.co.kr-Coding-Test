{
 "cells": [
  {
   "cell_type": "markdown",
   "id": "7a2cfe4c",
   "metadata": {},
   "source": [
    "https://programmers.co.kr/learn/courses/30/lessons/12951\n",
    "\n",
    "문제 설명\n",
    "JadenCase란 모든 단어의 첫 문자가 대문자이고, 그 외의 알파벳은 소문자인 문자열입니다. 문자열 s가 주어졌을 때, s를 JadenCase로 바꾼 문자열을 리턴하는 함수, solution을 완성해주세요.\n",
    "\n",
    "제한 조건\n",
    "s는 길이 1 이상인 문자열입니다.\n",
    "s는 알파벳과 공백문자(\" \")로 이루어져 있습니다.\n",
    "첫 문자가 영문이 아닐때에는 이어지는 영문은 소문자로 씁니다. ( 첫번째 입출력 예 참고 )\n",
    "입출력 예\n",
    "s\treturn\n",
    "\"3people unFollowed me\"\t\"3people Unfollowed Me\"\n",
    "\"for the last week\"\t\"For The Last Week\""
   ]
  },
  {
   "cell_type": "code",
   "execution_count": 1,
   "id": "db04b795",
   "metadata": {},
   "outputs": [],
   "source": [
    "#첫번째\n",
    "def solution(s):\n",
    "    s = list(map(lambda x: list(x.lower()), s.split(' ')))\n",
    "    for i in range(len(s)):\n",
    "        if s[i]:\n",
    "            s[i][0] = s[i][0].upper()\n",
    "    return ' '.join(list(map(lambda x: ''.join(x), s)))"
   ]
  },
  {
   "cell_type": "code",
   "execution_count": 2,
   "id": "470a614e",
   "metadata": {},
   "outputs": [],
   "source": [
    "#두번째 (간단하지만 시간효율 떨어짐)\n",
    "def solution(s):\n",
    "    return ' '.join([i.capitalize() for i in s.split(' ')])"
   ]
  },
  {
   "cell_type": "code",
   "execution_count": 3,
   "id": "c79c13e9",
   "metadata": {},
   "outputs": [
    {
     "data": {
      "text/plain": [
       "'3people Unfollowed Me'"
      ]
     },
     "execution_count": 3,
     "metadata": {},
     "output_type": "execute_result"
    }
   ],
   "source": [
    "solution(\"3people unFollowed me\")"
   ]
  },
  {
   "cell_type": "code",
   "execution_count": 4,
   "id": "5394b1f8",
   "metadata": {},
   "outputs": [
    {
     "data": {
      "text/plain": [
       "'For The Last Week'"
      ]
     },
     "execution_count": 4,
     "metadata": {},
     "output_type": "execute_result"
    }
   ],
   "source": [
    "solution(\"for the last week\")"
   ]
  }
 ],
 "metadata": {
  "kernelspec": {
   "display_name": "Python 3",
   "language": "python",
   "name": "python3"
  },
  "language_info": {
   "codemirror_mode": {
    "name": "ipython",
    "version": 3
   },
   "file_extension": ".py",
   "mimetype": "text/x-python",
   "name": "python",
   "nbconvert_exporter": "python",
   "pygments_lexer": "ipython3",
   "version": "3.8.8"
  }
 },
 "nbformat": 4,
 "nbformat_minor": 5
}
