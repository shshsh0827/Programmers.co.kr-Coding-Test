{
 "cells": [
  {
   "cell_type": "markdown",
   "id": "417914a1",
   "metadata": {},
   "source": [
    "https://programmers.co.kr/learn/courses/30/lessons/42746\n",
    "\n",
    "문제 설명\n",
    "0 또는 양의 정수가 주어졌을 때, 정수를 이어 붙여 만들 수 있는 가장 큰 수를 알아내 주세요.\n",
    "\n",
    "예를 들어, 주어진 정수가 [6, 10, 2]라면 [6102, 6210, 1062, 1026, 2610, 2106]를 만들 수 있고, 이중 가장 큰 수는 6210입니다.\n",
    "\n",
    "0 또는 양의 정수가 담긴 배열 numbers가 매개변수로 주어질 때, 순서를 재배치하여 만들 수 있는 가장 큰 수를 문자열로 바꾸어 return 하도록 solution 함수를 작성해주세요.\n",
    "\n",
    "제한 사항\n",
    "numbers의 길이는 1 이상 100,000 이하입니다.\n",
    "numbers의 원소는 0 이상 1,000 이하입니다.\n",
    "정답이 너무 클 수 있으니 문자열로 바꾸어 return 합니다.\n",
    "입출력 예\n",
    "numbers\treturn\n",
    "[6, 10, 2]\t\"6210\"\n",
    "[3, 30, 34, 5, 9]\t\"9534330\""
   ]
  },
  {
   "cell_type": "code",
   "execution_count": 1,
   "id": "bc4a46a5",
   "metadata": {},
   "outputs": [],
   "source": [
    "def solution(numbers):\n",
    "    numbers = list(map(lambda x: str(x), numbers))\n",
    "    answer = ''\n",
    "    for i in range(9, 0, -1):\n",
    "        lst = list(filter(lambda x: x[0] == str(i), numbers))\n",
    "        for j, k in sorted(list(zip(list(map(lambda x: int(x)/int(x[0]*len(x)), lst)), lst)), reverse=True):\n",
    "            answer += k\n",
    "    if '0' in numbers and answer:\n",
    "        answer += '0' * (len(numbers) - sorted(numbers, reverse=True).index('0'))\n",
    "    return answer if answer else '0'"
   ]
  },
  {
   "cell_type": "code",
   "execution_count": 2,
   "id": "2abf482a",
   "metadata": {},
   "outputs": [
    {
     "data": {
      "text/plain": [
       "'6210'"
      ]
     },
     "execution_count": 2,
     "metadata": {},
     "output_type": "execute_result"
    }
   ],
   "source": [
    "solution([6, 10, 2])"
   ]
  },
  {
   "cell_type": "code",
   "execution_count": 3,
   "id": "5a15d4f9",
   "metadata": {},
   "outputs": [
    {
     "data": {
      "text/plain": [
       "'9534330'"
      ]
     },
     "execution_count": 3,
     "metadata": {},
     "output_type": "execute_result"
    }
   ],
   "source": [
    "solution([3, 30, 34, 5, 9])"
   ]
  }
 ],
 "metadata": {
  "kernelspec": {
   "display_name": "Python 3",
   "language": "python",
   "name": "python3"
  },
  "language_info": {
   "codemirror_mode": {
    "name": "ipython",
    "version": 3
   },
   "file_extension": ".py",
   "mimetype": "text/x-python",
   "name": "python",
   "nbconvert_exporter": "python",
   "pygments_lexer": "ipython3",
   "version": "3.8.8"
  }
 },
 "nbformat": 4,
 "nbformat_minor": 5
}
