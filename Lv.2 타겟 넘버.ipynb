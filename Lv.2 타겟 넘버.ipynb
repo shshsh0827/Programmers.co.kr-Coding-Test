{
 "cells": [
  {
   "cell_type": "markdown",
   "id": "e13e2bea",
   "metadata": {},
   "source": [
    "https://programmers.co.kr/learn/courses/30/lessons/43165\n",
    "\n",
    "문제 설명\n",
    "n개의 음이 아닌 정수가 있습니다. 이 수를 적절히 더하거나 빼서 타겟 넘버를 만들려고 합니다. 예를 들어 [1, 1, 1, 1, 1]로 숫자 3을 만들려면 다음 다섯 방법을 쓸 수 있습니다.\n",
    "\n",
    "-1+1+1+1+1 = 3\n",
    "+1-1+1+1+1 = 3\n",
    "+1+1-1+1+1 = 3\n",
    "+1+1+1-1+1 = 3\n",
    "+1+1+1+1-1 = 3\n",
    "사용할 수 있는 숫자가 담긴 배열 numbers, 타겟 넘버 target이 매개변수로 주어질 때 숫자를 적절히 더하고 빼서 타겟 넘버를 만드는 방법의 수를 return 하도록 solution 함수를 작성해주세요.\n",
    "\n",
    "제한사항\n",
    "주어지는 숫자의 개수는 2개 이상 20개 이하입니다.\n",
    "각 숫자는 1 이상 50 이하인 자연수입니다.\n",
    "타겟 넘버는 1 이상 1000 이하인 자연수입니다.\n",
    "입출력 예\n",
    "numbers\ttarget\treturn\n",
    "[1, 1, 1, 1, 1]\t3\t5\n",
    "입출력 예 설명\n",
    "문제에 나온 예와 같습니다."
   ]
  },
  {
   "cell_type": "code",
   "execution_count": 1,
   "id": "c8aea111",
   "metadata": {},
   "outputs": [],
   "source": [
    "#첫번째 (우선 탐색)\n",
    "def solution(numbers, target):\n",
    "    if sum(numbers) < abs(target):\n",
    "        return 0\n",
    "    if sum(numbers) == abs(target):\n",
    "        return 1\n",
    "    result = []\n",
    "    n = len(numbers) - 1\n",
    "    queue = [(0, -1)]\n",
    "    while queue:\n",
    "        s, i = queue.pop()\n",
    "        if i == n:\n",
    "            result.append(s)\n",
    "        else:\n",
    "            for sign in [-1, 1]:\n",
    "                queue.append((s + sign * numbers[i+1], i+1))\n",
    "    return result.count(target)"
   ]
  },
  {
   "cell_type": "code",
   "execution_count": 2,
   "id": "e869e8e2",
   "metadata": {},
   "outputs": [],
   "source": [
    "#두번째 (소요 시간 감소 우선)\n",
    "from itertools import product\n",
    "\n",
    "def solution(numbers, target):\n",
    "    if sum(numbers) < abs(target):\n",
    "        return 0\n",
    "    if sum(numbers) == abs(target):\n",
    "        return 1\n",
    "    return list(map(lambda x: sum(x), product(*map(lambda x: (-x,x), numbers)))).count(target)"
   ]
  },
  {
   "cell_type": "code",
   "execution_count": 3,
   "id": "3d717d35",
   "metadata": {},
   "outputs": [
    {
     "data": {
      "text/plain": [
       "5"
      ]
     },
     "execution_count": 3,
     "metadata": {},
     "output_type": "execute_result"
    }
   ],
   "source": [
    "solution([1, 1, 1, 1, 1], 3)"
   ]
  }
 ],
 "metadata": {
  "kernelspec": {
   "display_name": "Python 3",
   "language": "python",
   "name": "python3"
  },
  "language_info": {
   "codemirror_mode": {
    "name": "ipython",
    "version": 3
   },
   "file_extension": ".py",
   "mimetype": "text/x-python",
   "name": "python",
   "nbconvert_exporter": "python",
   "pygments_lexer": "ipython3",
   "version": "3.8.8"
  }
 },
 "nbformat": 4,
 "nbformat_minor": 5
}
