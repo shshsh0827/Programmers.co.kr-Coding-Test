{
 "cells": [
  {
   "cell_type": "markdown",
   "id": "34f88c7c",
   "metadata": {},
   "source": [
    "https://programmers.co.kr/learn/courses/30/lessons/12916\n",
    "\n",
    "문제 설명\n",
    "대문자와 소문자가 섞여있는 문자열 s가 주어집니다. s에 'p'의 개수와 'y'의 개수를 비교해 같으면 True, 다르면 False를 return 하는 solution를 완성하세요. 'p', 'y' 모두 하나도 없는 경우는 항상 True를 리턴합니다. 단, 개수를 비교할 때 대문자와 소문자는 구별하지 않습니다.\n",
    "\n",
    "예를 들어 s가 \"pPoooyY\"면 true를 return하고 \"Pyy\"라면 false를 return합니다.\n",
    "\n",
    "제한사항\n",
    "문자열 s의 길이 : 50 이하의 자연수\n",
    "문자열 s는 알파벳으로만 이루어져 있습니다.\n",
    "입출력 예\n",
    "s\tanswer\n",
    "\"pPoooyY\"\ttrue\n",
    "\"Pyy\"\tfalse\n",
    "입출력 예 설명\n",
    "입출력 예 #1\n",
    "'p'의 개수 2개, 'y'의 개수 2개로 같으므로 true를 return 합니다.\n",
    "\n",
    "입출력 예 #2\n",
    "'p'의 개수 1개, 'y'의 개수 2개로 다르므로 false를 return 합니다."
   ]
  },
  {
   "cell_type": "code",
   "execution_count": 1,
   "id": "66b2a273",
   "metadata": {},
   "outputs": [],
   "source": [
    "def solution(s):\n",
    "    s = s.lower()\n",
    "    return s.count('y') == s.count('p')"
   ]
  },
  {
   "cell_type": "code",
   "execution_count": 2,
   "id": "7a989473",
   "metadata": {},
   "outputs": [
    {
     "data": {
      "text/plain": [
       "True"
      ]
     },
     "execution_count": 2,
     "metadata": {},
     "output_type": "execute_result"
    }
   ],
   "source": [
    "solution(\"pPoooyY\")"
   ]
  },
  {
   "cell_type": "code",
   "execution_count": 3,
   "id": "232aa69f",
   "metadata": {},
   "outputs": [
    {
     "data": {
      "text/plain": [
       "False"
      ]
     },
     "execution_count": 3,
     "metadata": {},
     "output_type": "execute_result"
    }
   ],
   "source": [
    "solution(\"Pyy\")"
   ]
  }
 ],
 "metadata": {
  "kernelspec": {
   "display_name": "Python 3",
   "language": "python",
   "name": "python3"
  },
  "language_info": {
   "codemirror_mode": {
    "name": "ipython",
    "version": 3
   },
   "file_extension": ".py",
   "mimetype": "text/x-python",
   "name": "python",
   "nbconvert_exporter": "python",
   "pygments_lexer": "ipython3",
   "version": "3.8.8"
  }
 },
 "nbformat": 4,
 "nbformat_minor": 5
}
