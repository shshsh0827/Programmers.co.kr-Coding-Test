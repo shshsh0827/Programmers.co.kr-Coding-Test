{
 "cells": [
  {
   "cell_type": "markdown",
   "id": "79817816",
   "metadata": {},
   "source": [
    "https://programmers.co.kr/learn/courses/30/lessons/12948\n",
    "\n",
    "문제 설명\n",
    "프로그래머스 모바일은 개인정보 보호를 위해 고지서를 보낼 때 고객들의 전화번호의 일부를 가립니다.\n",
    "전화번호가 문자열 phone_number로 주어졌을 때, 전화번호의 뒷 4자리를 제외한 나머지 숫자를 전부 *으로 가린 문자열을 리턴하는 함수, solution을 완성해주세요.\n",
    "\n",
    "제한 조건\n",
    "s는 길이 4 이상, 20이하인 문자열입니다.\n",
    "입출력 예\n",
    "phone_number\treturn\n",
    "\"01033334444\"\t\"*******4444\"\n",
    "\"027778888\"\t\"*****8888\""
   ]
  },
  {
   "cell_type": "code",
   "execution_count": 1,
   "id": "3365cc62",
   "metadata": {},
   "outputs": [],
   "source": [
    "def solution(phone_number):\n",
    "    return '*' * (len(phone_number) - 4) + phone_number[-4:]"
   ]
  },
  {
   "cell_type": "code",
   "execution_count": 2,
   "id": "3bd6dd9f",
   "metadata": {},
   "outputs": [
    {
     "data": {
      "text/plain": [
       "'*******4444'"
      ]
     },
     "execution_count": 2,
     "metadata": {},
     "output_type": "execute_result"
    }
   ],
   "source": [
    "solution(\"01033334444\")"
   ]
  },
  {
   "cell_type": "code",
   "execution_count": 3,
   "id": "829d92b1",
   "metadata": {},
   "outputs": [
    {
     "data": {
      "text/plain": [
       "'*****8888'"
      ]
     },
     "execution_count": 3,
     "metadata": {},
     "output_type": "execute_result"
    }
   ],
   "source": [
    "solution(\"027778888\")"
   ]
  }
 ],
 "metadata": {
  "kernelspec": {
   "display_name": "Python 3",
   "language": "python",
   "name": "python3"
  },
  "language_info": {
   "codemirror_mode": {
    "name": "ipython",
    "version": 3
   },
   "file_extension": ".py",
   "mimetype": "text/x-python",
   "name": "python",
   "nbconvert_exporter": "python",
   "pygments_lexer": "ipython3",
   "version": "3.8.8"
  }
 },
 "nbformat": 4,
 "nbformat_minor": 5
}
