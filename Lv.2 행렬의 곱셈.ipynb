{
 "cells": [
  {
   "cell_type": "markdown",
   "id": "85b3c19c",
   "metadata": {},
   "source": [
    "https://programmers.co.kr/learn/courses/30/lessons/12949\n",
    "\n",
    "문제 설명\n",
    "2차원 행렬 arr1과 arr2를 입력받아, arr1에 arr2를 곱한 결과를 반환하는 함수, solution을 완성해주세요.\n",
    "\n",
    "제한 조건\n",
    "행렬 arr1, arr2의 행과 열의 길이는 2 이상 100 이하입니다.\n",
    "행렬 arr1, arr2의 원소는 -10 이상 20 이하인 자연수입니다.\n",
    "곱할 수 있는 배열만 주어집니다.\n",
    "입출력 예\n",
    "arr1\tarr2\treturn\n",
    "[[1, 4], [3, 2], [4, 1]]\t[[3, 3], [3, 3]]\t[[15, 15], [15, 15], [15, 15]]\n",
    "[[2, 3, 2], [4, 2, 4], [3, 1, 4]]\t[[5, 4, 3], [2, 4, 1], [3, 1, 1]]\t[[22, 22, 11], [36, 28, 18], [29, 20, 14]]"
   ]
  },
  {
   "cell_type": "code",
   "execution_count": 1,
   "id": "a37683fc",
   "metadata": {},
   "outputs": [],
   "source": [
    "def solution(arr1, arr2):\n",
    "    arr2 = list(map(list, zip(*arr2)))\n",
    "    x = len(arr1); y = len(arr2)\n",
    "    answer = []\n",
    "    for i in range(x):\n",
    "        raw = []\n",
    "        for j in range(y):\n",
    "            raw.append(sum(map(lambda a, b: a * b, arr1[i], arr2[j])))\n",
    "        answer.append(raw)\n",
    "    return answer"
   ]
  },
  {
   "cell_type": "code",
   "execution_count": 2,
   "id": "6e358de8",
   "metadata": {},
   "outputs": [],
   "source": [
    "# one-line coding\n",
    "def solution(arr1, arr2):\n",
    "    arr2 = list(map(list, zip(*arr2)))\n",
    "    x = len(arr1); y = len(arr2)\n",
    "    answer = []\n",
    "    return [[sum(map(lambda a, b: a * b, arr1[i], arr2[j])) for j in range(y)] for i in range(x)]"
   ]
  },
  {
   "cell_type": "code",
   "execution_count": 3,
   "id": "a2c1940c",
   "metadata": {},
   "outputs": [
    {
     "data": {
      "text/plain": [
       "[[15, 15], [15, 15], [15, 15]]"
      ]
     },
     "execution_count": 3,
     "metadata": {},
     "output_type": "execute_result"
    }
   ],
   "source": [
    "solution([[1, 4], [3, 2], [4, 1]], [[3, 3], [3, 3]])"
   ]
  },
  {
   "cell_type": "code",
   "execution_count": 4,
   "id": "d14b670c",
   "metadata": {},
   "outputs": [
    {
     "data": {
      "text/plain": [
       "[[22, 22, 11], [36, 28, 18], [29, 20, 14]]"
      ]
     },
     "execution_count": 4,
     "metadata": {},
     "output_type": "execute_result"
    }
   ],
   "source": [
    "solution([[2, 3, 2], [4, 2, 4], [3, 1, 4]], [[5, 4, 3], [2, 4, 1], [3, 1, 1]])"
   ]
  }
 ],
 "metadata": {
  "kernelspec": {
   "display_name": "Python 3",
   "language": "python",
   "name": "python3"
  },
  "language_info": {
   "codemirror_mode": {
    "name": "ipython",
    "version": 3
   },
   "file_extension": ".py",
   "mimetype": "text/x-python",
   "name": "python",
   "nbconvert_exporter": "python",
   "pygments_lexer": "ipython3",
   "version": "3.8.8"
  }
 },
 "nbformat": 4,
 "nbformat_minor": 5
}
