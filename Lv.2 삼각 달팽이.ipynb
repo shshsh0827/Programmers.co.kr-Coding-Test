{
 "cells": [
  {
   "cell_type": "markdown",
   "id": "6caeba7c",
   "metadata": {},
   "source": [
    "https://programmers.co.kr/learn/courses/30/lessons/68645\n",
    "\n",
    "문제 설명\n",
    "정수 n이 매개변수로 주어집니다. 다음 그림과 같이 밑변의 길이와 높이가 n인 삼각형에서 맨 위 꼭짓점부터 반시계 방향으로 달팽이 채우기를 진행한 후, 첫 행부터 마지막 행까지 모두 순서대로 합친 새로운 배열을 return 하도록 solution 함수를 완성해주세요.\n",
    "\n",
    "examples.png\n",
    "\n",
    "제한사항\n",
    "n은 1 이상 1,000 이하입니다.\n",
    "입출력 예\n",
    "n\tresult\n",
    "4\t[1,2,9,3,10,8,4,5,6,7]\n",
    "5\t[1,2,12,3,13,11,4,14,15,10,5,6,7,8,9]\n",
    "6\t[1,2,15,3,16,14,4,17,21,13,5,18,19,20,12,6,7,8,9,10,11]\n",
    "입출력 예 설명\n",
    "입출력 예 #1\n",
    "\n",
    "문제 예시와 같습니다.\n",
    "입출력 예 #2\n",
    "\n",
    "문제 예시와 같습니다.\n",
    "입출력 예 #3\n",
    "\n",
    "문제 예시와 같습니다."
   ]
  },
  {
   "cell_type": "code",
   "execution_count": 1,
   "id": "25f31e97",
   "metadata": {},
   "outputs": [],
   "source": [
    "from functools import reduce\n",
    "\n",
    "def solution(n):\n",
    "    snailN = reduce(lambda x, y: x+y, range(1, n+1))\n",
    "    arr = [[0] * i for i in range(1, n+1)]\n",
    "    i = -1; j = 0; k = 1\n",
    "    orderLst = ['i', 'j', '-']\n",
    "    orderI = -1\n",
    "    while k <= snailN:\n",
    "        orderI += 1\n",
    "        order = orderLst[orderI % 3]\n",
    "        while True:\n",
    "            if order == 'i':\n",
    "                i += 1\n",
    "                try:\n",
    "                    if arr[i][j] != 0:\n",
    "                        i -= 1\n",
    "                        break\n",
    "                except:\n",
    "                    i -= 1\n",
    "                    break\n",
    "            elif order == 'j':\n",
    "                j += 1\n",
    "                try:\n",
    "                    if arr[i][j] != 0:\n",
    "                        j -= 1\n",
    "                        break\n",
    "                except:\n",
    "                    j -= 1\n",
    "                    break\n",
    "            else:\n",
    "                i -= 1; j-= 1\n",
    "                try:\n",
    "                    if arr[i][j] != 0:\n",
    "                        i +=1; j += 1\n",
    "                        break\n",
    "                except:\n",
    "                    i +=1; j += 1\n",
    "                    break\n",
    "            arr[i][j] = k\n",
    "            k += 1\n",
    "    return reduce(lambda x, y: x+y, arr)"
   ]
  },
  {
   "cell_type": "code",
   "execution_count": 2,
   "id": "48b1de18",
   "metadata": {},
   "outputs": [
    {
     "data": {
      "text/plain": [
       "[1, 2, 9, 3, 10, 8, 4, 5, 6, 7]"
      ]
     },
     "execution_count": 2,
     "metadata": {},
     "output_type": "execute_result"
    }
   ],
   "source": [
    "solution(4)"
   ]
  },
  {
   "cell_type": "code",
   "execution_count": 3,
   "id": "16357a59",
   "metadata": {},
   "outputs": [
    {
     "data": {
      "text/plain": [
       "[1, 2, 12, 3, 13, 11, 4, 14, 15, 10, 5, 6, 7, 8, 9]"
      ]
     },
     "execution_count": 3,
     "metadata": {},
     "output_type": "execute_result"
    }
   ],
   "source": [
    "solution(5)"
   ]
  },
  {
   "cell_type": "code",
   "execution_count": 4,
   "id": "54bf3e47",
   "metadata": {},
   "outputs": [
    {
     "data": {
      "text/plain": [
       "[1, 2, 15, 3, 16, 14, 4, 17, 21, 13, 5, 18, 19, 20, 12, 6, 7, 8, 9, 10, 11]"
      ]
     },
     "execution_count": 4,
     "metadata": {},
     "output_type": "execute_result"
    }
   ],
   "source": [
    "solution(6)"
   ]
  }
 ],
 "metadata": {
  "kernelspec": {
   "display_name": "Python 3",
   "language": "python",
   "name": "python3"
  },
  "language_info": {
   "codemirror_mode": {
    "name": "ipython",
    "version": 3
   },
   "file_extension": ".py",
   "mimetype": "text/x-python",
   "name": "python",
   "nbconvert_exporter": "python",
   "pygments_lexer": "ipython3",
   "version": "3.8.8"
  }
 },
 "nbformat": 4,
 "nbformat_minor": 5
}
