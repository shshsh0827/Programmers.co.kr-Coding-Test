{
 "cells": [
  {
   "cell_type": "markdown",
   "id": "2b889cd0",
   "metadata": {},
   "source": [
    "https://programmers.co.kr/learn/courses/30/lessons/68644\n",
    "\n",
    "문제 설명\n",
    "정수 배열 numbers가 주어집니다. numbers에서 서로 다른 인덱스에 있는 두 개의 수를 뽑아 더해서 만들 수 있는 모든 수를 배열에 오름차순으로 담아 return 하도록 solution 함수를 완성해주세요.\n",
    "\n",
    "제한사항\n",
    "numbers의 길이는 2 이상 100 이하입니다.\n",
    "numbers의 모든 수는 0 이상 100 이하입니다.\n",
    "입출력 예\n",
    "numbers\tresult\n",
    "[2,1,3,4,1]\t[2,3,4,5,6,7]\n",
    "[5,0,2,7]\t[2,5,7,9,12]\n",
    "입출력 예 설명\n",
    "입출력 예 #1\n",
    "\n",
    "2 = 1 + 1 입니다. (1이 numbers에 두 개 있습니다.)\n",
    "3 = 2 + 1 입니다.\n",
    "4 = 1 + 3 입니다.\n",
    "5 = 1 + 4 = 2 + 3 입니다.\n",
    "6 = 2 + 4 입니다.\n",
    "7 = 3 + 4 입니다.\n",
    "따라서 [2,3,4,5,6,7] 을 return 해야 합니다.\n",
    "입출력 예 #2\n",
    "\n",
    "2 = 0 + 2 입니다.\n",
    "5 = 5 + 0 입니다.\n",
    "7 = 0 + 7 = 5 + 2 입니다.\n",
    "9 = 2 + 7 입니다.\n",
    "12 = 5 + 7 입니다.\n",
    "따라서 [2,5,7,9,12] 를 return 해야 합니다."
   ]
  },
  {
   "cell_type": "code",
   "execution_count": 1,
   "id": "68c18db8",
   "metadata": {},
   "outputs": [],
   "source": [
    "def solution(numbers):\n",
    "    return sorted(list(set([numbers[i] + numbers[j] for i in range(len(numbers)-1) for j in range(i+1, len(numbers))])))"
   ]
  },
  {
   "cell_type": "code",
   "execution_count": 2,
   "id": "1e70bb46",
   "metadata": {},
   "outputs": [
    {
     "data": {
      "text/plain": [
       "[2, 3, 4, 5, 6, 7]"
      ]
     },
     "execution_count": 2,
     "metadata": {},
     "output_type": "execute_result"
    }
   ],
   "source": [
    "solution([2,1,3,4,1])"
   ]
  },
  {
   "cell_type": "code",
   "execution_count": 3,
   "id": "abb239d9",
   "metadata": {},
   "outputs": [
    {
     "data": {
      "text/plain": [
       "[2, 5, 7, 9, 12]"
      ]
     },
     "execution_count": 3,
     "metadata": {},
     "output_type": "execute_result"
    }
   ],
   "source": [
    "solution([5,0,2,7])"
   ]
  }
 ],
 "metadata": {
  "kernelspec": {
   "display_name": "Python 3",
   "language": "python",
   "name": "python3"
  },
  "language_info": {
   "codemirror_mode": {
    "name": "ipython",
    "version": 3
   },
   "file_extension": ".py",
   "mimetype": "text/x-python",
   "name": "python",
   "nbconvert_exporter": "python",
   "pygments_lexer": "ipython3",
   "version": "3.8.8"
  }
 },
 "nbformat": 4,
 "nbformat_minor": 5
}
