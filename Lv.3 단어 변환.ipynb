{
 "cells": [
  {
   "cell_type": "markdown",
   "id": "1fb1a1d6",
   "metadata": {},
   "source": [
    "https://programmers.co.kr/learn/courses/30/lessons/43163\n",
    "\n",
    "문제 설명\n",
    "두 개의 단어 begin, target과 단어의 집합 words가 있습니다. 아래와 같은 규칙을 이용하여 begin에서 target으로 변환하는 가장 짧은 변환 과정을 찾으려고 합니다.\n",
    "\n",
    "1. 한 번에 한 개의 알파벳만 바꿀 수 있습니다.\n",
    "2. words에 있는 단어로만 변환할 수 있습니다.\n",
    "예를 들어 begin이 \"hit\", target가 \"cog\", words가 [\"hot\",\"dot\",\"dog\",\"lot\",\"log\",\"cog\"]라면 \"hit\" -> \"hot\" -> \"dot\" -> \"dog\" -> \"cog\"와 같이 4단계를 거쳐 변환할 수 있습니다.\n",
    "\n",
    "두 개의 단어 begin, target과 단어의 집합 words가 매개변수로 주어질 때, 최소 몇 단계의 과정을 거쳐 begin을 target으로 변환할 수 있는지 return 하도록 solution 함수를 작성해주세요.\n",
    "\n",
    "제한사항\n",
    "각 단어는 알파벳 소문자로만 이루어져 있습니다.\n",
    "각 단어의 길이는 3 이상 10 이하이며 모든 단어의 길이는 같습니다.\n",
    "words에는 3개 이상 50개 이하의 단어가 있으며 중복되는 단어는 없습니다.\n",
    "begin과 target은 같지 않습니다.\n",
    "변환할 수 없는 경우에는 0를 return 합니다.\n",
    "입출력 예\n",
    "begin\ttarget\twords\treturn\n",
    "\"hit\"\t\"cog\"\t[\"hot\", \"dot\", \"dog\", \"lot\", \"log\", \"cog\"]\t4\n",
    "\"hit\"\t\"cog\"\t[\"hot\", \"dot\", \"dog\", \"lot\", \"log\"]\t0\n",
    "입출력 예 설명\n",
    "예제 #1\n",
    "문제에 나온 예와 같습니다.\n",
    "\n",
    "예제 #2\n",
    "target인 \"cog\"는 words 안에 없기 때문에 변환할 수 없습니다."
   ]
  },
  {
   "cell_type": "code",
   "execution_count": 1,
   "id": "ead235c7",
   "metadata": {},
   "outputs": [],
   "source": [
    "def solution(begin, target, words):\n",
    "    words = list(map(lambda x: list(x), words))\n",
    "    graph = dict()\n",
    "    for word in [list(begin)] + words:\n",
    "        cnt=[]\n",
    "        for i in range(len(word)):\n",
    "            for j in words:\n",
    "                if word[i] != j[i]:\n",
    "                    copy_word = word.copy()\n",
    "                    copy_j = j.copy()\n",
    "                    copy_word[i] = ''\n",
    "                    copy_j[i] = ''\n",
    "                    if copy_word == copy_j:\n",
    "                        cnt.append(''.join(j))\n",
    "        graph[''.join(word)] = set(cnt)\n",
    "    queue = [(begin, [begin])]\n",
    "    result = []\n",
    "    while queue:\n",
    "        n, path = queue.pop()\n",
    "        if n == target:\n",
    "            result.append(path)\n",
    "        else:\n",
    "            for m in graph[n] - set(path):\n",
    "                queue.append((m, path + [m]))\n",
    "    return 0 if not result else min(list(map(lambda x: len(x), result))) - 1"
   ]
  },
  {
   "cell_type": "code",
   "execution_count": 2,
   "id": "3154a8af",
   "metadata": {},
   "outputs": [
    {
     "data": {
      "text/plain": [
       "4"
      ]
     },
     "execution_count": 2,
     "metadata": {},
     "output_type": "execute_result"
    }
   ],
   "source": [
    "solution(\"hit\", \"cog\", [\"hot\", \"dot\", \"dog\", \"lot\", \"log\", \"cog\"])"
   ]
  },
  {
   "cell_type": "code",
   "execution_count": 3,
   "id": "d5750d2c",
   "metadata": {},
   "outputs": [
    {
     "data": {
      "text/plain": [
       "0"
      ]
     },
     "execution_count": 3,
     "metadata": {},
     "output_type": "execute_result"
    }
   ],
   "source": [
    "solution(\"hit\", \"cog\", [\"hot\", \"dot\", \"dog\", \"lot\", \"log\"])"
   ]
  }
 ],
 "metadata": {
  "kernelspec": {
   "display_name": "Python 3",
   "language": "python",
   "name": "python3"
  },
  "language_info": {
   "codemirror_mode": {
    "name": "ipython",
    "version": 3
   },
   "file_extension": ".py",
   "mimetype": "text/x-python",
   "name": "python",
   "nbconvert_exporter": "python",
   "pygments_lexer": "ipython3",
   "version": "3.8.8"
  }
 },
 "nbformat": 4,
 "nbformat_minor": 5
}
