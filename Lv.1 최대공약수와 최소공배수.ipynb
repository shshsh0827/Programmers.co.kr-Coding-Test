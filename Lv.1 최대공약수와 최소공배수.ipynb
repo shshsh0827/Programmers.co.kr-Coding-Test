{
 "cells": [
  {
   "cell_type": "markdown",
   "id": "bea072df",
   "metadata": {},
   "source": [
    "https://programmers.co.kr/learn/courses/30/lessons/12940\n",
    "\n",
    "문제 설명\n",
    "두 수를 입력받아 두 수의 최대공약수와 최소공배수를 반환하는 함수, solution을 완성해 보세요. 배열의 맨 앞에 최대공약수, 그다음 최소공배수를 넣어 반환하면 됩니다. 예를 들어 두 수 3, 12의 최대공약수는 3, 최소공배수는 12이므로 solution(3, 12)는 [3, 12]를 반환해야 합니다.\n",
    "\n",
    "제한 사항\n",
    "두 수는 1이상 1000000이하의 자연수입니다.\n",
    "입출력 예\n",
    "n\tm\treturn\n",
    "3\t12\t[3, 12]\n",
    "2\t5\t[1, 10]\n",
    "입출력 예 설명\n",
    "입출력 예 #1\n",
    "위의 설명과 같습니다.\n",
    "\n",
    "입출력 예 #2\n",
    "자연수 2와 5의 최대공약수는 1, 최소공배수는 10이므로 [1, 10]을 리턴해야 합니다."
   ]
  },
  {
   "cell_type": "code",
   "execution_count": 1,
   "id": "82045753",
   "metadata": {},
   "outputs": [],
   "source": [
    "def solution(n, m):\n",
    "    k = 2\n",
    "    gcdLst = []\n",
    "    nm = n * m\n",
    "    while k <= min(n, m):\n",
    "        if n % k or m % k:\n",
    "            k += 1\n",
    "        else:\n",
    "            gcdLst.append(k)\n",
    "            n /= k\n",
    "            m /= k\n",
    "    gcd = 1\n",
    "    for i in gcdLst:\n",
    "        gcd *= i\n",
    "    lcm = nm / gcd\n",
    "    return [gcd, lcm]"
   ]
  },
  {
   "cell_type": "code",
   "execution_count": 2,
   "id": "68c3d66c",
   "metadata": {},
   "outputs": [
    {
     "data": {
      "text/plain": [
       "[3, 12.0]"
      ]
     },
     "execution_count": 2,
     "metadata": {},
     "output_type": "execute_result"
    }
   ],
   "source": [
    "solution(3, 12)"
   ]
  },
  {
   "cell_type": "code",
   "execution_count": 3,
   "id": "7ee57966",
   "metadata": {},
   "outputs": [
    {
     "data": {
      "text/plain": [
       "[1, 10.0]"
      ]
     },
     "execution_count": 3,
     "metadata": {},
     "output_type": "execute_result"
    }
   ],
   "source": [
    "solution(2, 5)"
   ]
  }
 ],
 "metadata": {
  "kernelspec": {
   "display_name": "Python 3",
   "language": "python",
   "name": "python3"
  },
  "language_info": {
   "codemirror_mode": {
    "name": "ipython",
    "version": 3
   },
   "file_extension": ".py",
   "mimetype": "text/x-python",
   "name": "python",
   "nbconvert_exporter": "python",
   "pygments_lexer": "ipython3",
   "version": "3.8.8"
  }
 },
 "nbformat": 4,
 "nbformat_minor": 5
}
