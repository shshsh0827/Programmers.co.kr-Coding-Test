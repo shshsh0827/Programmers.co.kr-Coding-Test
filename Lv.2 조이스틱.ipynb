{
 "cells": [
  {
   "cell_type": "markdown",
   "id": "d7ece228",
   "metadata": {},
   "source": [
    "https://programmers.co.kr/learn/courses/30/lessons/42860\n",
    "\n",
    "문제 설명\n",
    "조이스틱으로 알파벳 이름을 완성하세요. 맨 처음엔 A로만 이루어져 있습니다.\n",
    "ex) 완성해야 하는 이름이 세 글자면 AAA, 네 글자면 AAAA\n",
    "\n",
    "조이스틱을 각 방향으로 움직이면 아래와 같습니다.\n",
    "\n",
    "▲ - 다음 알파벳\n",
    "▼ - 이전 알파벳 (A에서 아래쪽으로 이동하면 Z로)\n",
    "◀ - 커서를 왼쪽으로 이동 (첫 번째 위치에서 왼쪽으로 이동하면 마지막 문자에 커서)\n",
    "▶ - 커서를 오른쪽으로 이동\n",
    "예를 들어 아래의 방법으로 \"JAZ\"를 만들 수 있습니다.\n",
    "\n",
    "- 첫 번째 위치에서 조이스틱을 위로 9번 조작하여 J를 완성합니다.\n",
    "- 조이스틱을 왼쪽으로 1번 조작하여 커서를 마지막 문자 위치로 이동시킵니다.\n",
    "- 마지막 위치에서 조이스틱을 아래로 1번 조작하여 Z를 완성합니다.\n",
    "따라서 11번 이동시켜 \"JAZ\"를 만들 수 있고, 이때가 최소 이동입니다.\n",
    "만들고자 하는 이름 name이 매개변수로 주어질 때, 이름에 대해 조이스틱 조작 횟수의 최솟값을 return 하도록 solution 함수를 만드세요.\n",
    "\n",
    "제한 사항\n",
    "name은 알파벳 대문자로만 이루어져 있습니다.\n",
    "name의 길이는 1 이상 20 이하입니다.\n",
    "입출력 예\n",
    "name\treturn\n",
    "\"JEROEN\"\t56\n",
    "\"JAN\"\t23"
   ]
  },
  {
   "cell_type": "code",
   "execution_count": 1,
   "id": "e0767b4a",
   "metadata": {},
   "outputs": [],
   "source": [
    "def solution(name):\n",
    "\n",
    "    def upDown(s):\n",
    "        si = alphabet.index(s)\n",
    "        ai = alphabet.index('A')\n",
    "        return min(si - ai, abs(si - ai - 26))\n",
    "\n",
    "    def leftRight(arr, pos):\n",
    "        if arr[pos] != 0:\n",
    "            return pos\n",
    "        if sum(arr) == 0:\n",
    "            return None\n",
    "        lst = []\n",
    "        for i in range(1, len(arr) // 2 + 1):\n",
    "            if arr[(pos + i) % len(name)] != 0:\n",
    "                return (pos + i) % len(name)\n",
    "            if arr[(pos - i) % len(name)] != 0:\n",
    "                return (pos - i) % len(name)\n",
    "\n",
    "    alphabet = list('ABCDEFGHIJKLMNOPQRSTUVWXYZ')\n",
    "    arr = list(map(lambda x: upDown(x), name))\n",
    "    curPos = 0\n",
    "    pos = leftRight(arr, curPos)\n",
    "    times = 0\n",
    "    while pos != None:\n",
    "        pos %= len(name)\n",
    "        times += arr[pos] + min(max(curPos, pos) - min(curPos, pos), abs(max(curPos, pos) - min(curPos, pos) - len(name)))\n",
    "        arr[pos] = 0\n",
    "        curPos = pos\n",
    "        pos = leftRight(arr, curPos)\n",
    "    return times"
   ]
  },
  {
   "cell_type": "code",
   "execution_count": 2,
   "id": "80413a50",
   "metadata": {},
   "outputs": [
    {
     "data": {
      "text/plain": [
       "56"
      ]
     },
     "execution_count": 2,
     "metadata": {},
     "output_type": "execute_result"
    }
   ],
   "source": [
    "solution(\"JEROEN\")"
   ]
  },
  {
   "cell_type": "code",
   "execution_count": 3,
   "id": "c05778cf",
   "metadata": {},
   "outputs": [
    {
     "data": {
      "text/plain": [
       "23"
      ]
     },
     "execution_count": 3,
     "metadata": {},
     "output_type": "execute_result"
    }
   ],
   "source": [
    "solution(\"JAN\")"
   ]
  }
 ],
 "metadata": {
  "kernelspec": {
   "display_name": "Python 3",
   "language": "python",
   "name": "python3"
  },
  "language_info": {
   "codemirror_mode": {
    "name": "ipython",
    "version": 3
   },
   "file_extension": ".py",
   "mimetype": "text/x-python",
   "name": "python",
   "nbconvert_exporter": "python",
   "pygments_lexer": "ipython3",
   "version": "3.8.8"
  }
 },
 "nbformat": 4,
 "nbformat_minor": 5
}
