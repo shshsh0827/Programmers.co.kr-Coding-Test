{
 "cells": [
  {
   "cell_type": "markdown",
   "id": "0daefae2",
   "metadata": {},
   "source": [
    "https://programmers.co.kr/learn/courses/30/lessons/68936\n",
    "\n",
    "문제 설명\n",
    "0과 1로 이루어진 2n x 2n 크기의 2차원 정수 배열 arr이 있습니다. 당신은 이 arr을 쿼드 트리와 같은 방식으로 압축하고자 합니다. 구체적인 방식은 다음과 같습니다.\n",
    "\n",
    "당신이 압축하고자 하는 특정 영역을 S라고 정의합니다.\n",
    "만약 S 내부에 있는 모든 수가 같은 값이라면, S를 해당 수 하나로 압축시킵니다.\n",
    "그렇지 않다면, S를 정확히 4개의 균일한 정사각형 영역(입출력 예를 참고해주시기 바랍니다.)으로 쪼갠 뒤, 각 정사각형 영역에 대해 같은 방식의 압축을 시도합니다.\n",
    "arr이 매개변수로 주어집니다. 위와 같은 방식으로 arr을 압축했을 때, 배열에 최종적으로 남는 0의 개수와 1의 개수를 배열에 담아서 return 하도록 solution 함수를 완성해주세요.\n",
    "\n",
    "제한사항\n",
    "arr의 행의 개수는 1 이상 1024 이하이며, 2의 거듭 제곱수 형태를 하고 있습니다. 즉, arr의 행의 개수는 1, 2, 4, 8, ..., 1024 중 하나입니다.\n",
    "arr의 각 행의 길이는 arr의 행의 개수와 같습니다. 즉, arr은 정사각형 배열입니다.\n",
    "arr의 각 행에 있는 모든 값은 0 또는 1 입니다.\n",
    "입출력 예\n",
    "arr\tresult\n",
    "[[1,1,0,0],[1,0,0,0],[1,0,0,1],[1,1,1,1]]\t[4,9]\n",
    "[[1,1,1,1,1,1,1,1],[0,1,1,1,1,1,1,1],[0,0,0,0,1,1,1,1],[0,1,0,0,1,1,1,1],[0,0,0,0,0,0,1,1],[0,0,0,0,0,0,0,1],[0,0,0,0,1,0,0,1],[0,0,0,0,1,1,1,1]]\t[10,15]\n",
    "입출력 예 설명\n",
    "입출력 예 #1\n",
    "\n",
    "다음 그림은 주어진 arr을 압축하는 과정을 나타낸 것입니다.\n",
    "ex1.png\n",
    "최종 압축 결과에 0이 4개, 1이 9개 있으므로, [4,9]를 return 해야 합니다.\n",
    "입출력 예 #2\n",
    "\n",
    "다음 그림은 주어진 arr을 압축하는 과정을 나타낸 것입니다.\n",
    "ex2.png\n",
    "최종 압축 결과에 0이 10개, 1이 15개 있으므로, [10,15]를 return 해야 합니다."
   ]
  },
  {
   "cell_type": "code",
   "execution_count": 88,
   "id": "bf87a9a7",
   "metadata": {},
   "outputs": [],
   "source": [
    "from collections import Counter\n",
    "\n",
    "def solution(arr):\n",
    "    queue = [''.join(list(map(lambda x: ''.join(list(map(lambda y: str(y), x))), arr)))]\n",
    "    answer = [0, 0]\n",
    "    while queue:\n",
    "        element = queue.pop()\n",
    "        counter = Counter(element)\n",
    "        if len(counter) == 1:\n",
    "            answer[int(list(counter.keys())[0])] += 1\n",
    "        else:\n",
    "            N = len(element)\n",
    "            n = int(N ** 0.5)\n",
    "            for i in [0, N//2]:\n",
    "                arr1 = ''; arr2 = ''\n",
    "                for j in range(i, i + N//2, n):\n",
    "                    arr1 += element[j:j+n//2]\n",
    "                    arr2 += element[j+n//2:j+n]\n",
    "                queue.extend([arr1, arr2])\n",
    "    return answer"
   ]
  },
  {
   "cell_type": "code",
   "execution_count": 89,
   "id": "9ad3ae85",
   "metadata": {},
   "outputs": [
    {
     "data": {
      "text/plain": [
       "[4, 9]"
      ]
     },
     "execution_count": 89,
     "metadata": {},
     "output_type": "execute_result"
    }
   ],
   "source": [
    "solution([[1,1,0,0],[1,0,0,0],[1,0,0,1],[1,1,1,1]])"
   ]
  },
  {
   "cell_type": "code",
   "execution_count": 90,
   "id": "a1889fae",
   "metadata": {},
   "outputs": [
    {
     "data": {
      "text/plain": [
       "[10, 15]"
      ]
     },
     "execution_count": 90,
     "metadata": {},
     "output_type": "execute_result"
    }
   ],
   "source": [
    "solution([[1,1,1,1,1,1,1,1],[0,1,1,1,1,1,1,1],[0,0,0,0,1,1,1,1],[0,1,0,0,1,1,1,1],[0,0,0,0,0,0,1,1],[0,0,0,0,0,0,0,1],[0,0,0,0,1,0,0,1],[0,0,0,0,1,1,1,1]])"
   ]
  }
 ],
 "metadata": {
  "kernelspec": {
   "display_name": "Python 3",
   "language": "python",
   "name": "python3"
  },
  "language_info": {
   "codemirror_mode": {
    "name": "ipython",
    "version": 3
   },
   "file_extension": ".py",
   "mimetype": "text/x-python",
   "name": "python",
   "nbconvert_exporter": "python",
   "pygments_lexer": "ipython3",
   "version": "3.8.8"
  }
 },
 "nbformat": 4,
 "nbformat_minor": 5
}
