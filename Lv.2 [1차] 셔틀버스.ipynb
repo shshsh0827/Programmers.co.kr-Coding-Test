{
 "cells": [
  {
   "cell_type": "code",
   "execution_count": null,
   "metadata": {},
   "outputs": [],
   "source": [
    "def solution(n, t, m, timetable):\n",
    "    timetable = list(map(lambda x: int(x.split(':')[0]) * 60 + int(x.split(':')[1]), sorted(timetable)))\n",
    "    shuttle = 540\n",
    "    for i in range(n - 1):\n",
    "        timetable = timetable[min(m, len(list(filter(lambda x: x <= shuttle, timetable)))):]\n",
    "        shuttle += t\n",
    "    if len(list(filter(lambda x: x <= shuttle, timetable))) >= m:\n",
    "        return str((timetable[m - 1] - 1) // 60).zfill(2) + ':' + str((timetable[m - 1] - 1) % 60).zfill(2)\n",
    "    else:\n",
    "        return str(shuttle // 60).zfill(2) + ':' + str(shuttle % 60).zfill(2)"
   ]
  }
 ],
 "metadata": {
  "kernelspec": {
   "display_name": "Python 3",
   "language": "python",
   "name": "python3"
  },
  "language_info": {
   "codemirror_mode": {
    "name": "ipython",
    "version": 3
   },
   "file_extension": ".py",
   "mimetype": "text/x-python",
   "name": "python",
   "nbconvert_exporter": "python",
   "pygments_lexer": "ipython3",
   "version": "3.7.4"
  }
 },
 "nbformat": 4,
 "nbformat_minor": 2
}
