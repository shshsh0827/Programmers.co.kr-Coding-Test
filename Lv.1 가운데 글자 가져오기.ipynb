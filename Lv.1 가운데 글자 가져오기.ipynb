{
 "cells": [
  {
   "cell_type": "markdown",
   "id": "e9419b63",
   "metadata": {},
   "source": [
    "https://programmers.co.kr/learn/courses/30/lessons/12903\n",
    "\n",
    "문제 설명\n",
    "단어 s의 가운데 글자를 반환하는 함수, solution을 만들어 보세요. 단어의 길이가 짝수라면 가운데 두글자를 반환하면 됩니다.\n",
    "\n",
    "재한사항\n",
    "s는 길이가 1 이상, 100이하인 스트링입니다.\n",
    "입출력 예\n",
    "s\treturn\n",
    "\"abcde\"\t\"c\"\n",
    "\"qwer\"\t\"we\""
   ]
  },
  {
   "cell_type": "code",
   "execution_count": 1,
   "id": "0da7d919",
   "metadata": {},
   "outputs": [],
   "source": [
    "def solution(s):\n",
    "    return s[len(s)//2-1:len(s)//2+1] if divmod(len(s), 2)[1] == 0 else s[int(len(s)/2)]"
   ]
  },
  {
   "cell_type": "code",
   "execution_count": 2,
   "id": "65c77035",
   "metadata": {},
   "outputs": [
    {
     "data": {
      "text/plain": [
       "'c'"
      ]
     },
     "execution_count": 2,
     "metadata": {},
     "output_type": "execute_result"
    }
   ],
   "source": [
    "solution(\"abcde\")"
   ]
  },
  {
   "cell_type": "code",
   "execution_count": 3,
   "id": "c39ecfc3",
   "metadata": {},
   "outputs": [
    {
     "data": {
      "text/plain": [
       "'we'"
      ]
     },
     "execution_count": 3,
     "metadata": {},
     "output_type": "execute_result"
    }
   ],
   "source": [
    "solution(\"qwer\")"
   ]
  }
 ],
 "metadata": {
  "kernelspec": {
   "display_name": "Python 3",
   "language": "python",
   "name": "python3"
  },
  "language_info": {
   "codemirror_mode": {
    "name": "ipython",
    "version": 3
   },
   "file_extension": ".py",
   "mimetype": "text/x-python",
   "name": "python",
   "nbconvert_exporter": "python",
   "pygments_lexer": "ipython3",
   "version": "3.8.8"
  }
 },
 "nbformat": 4,
 "nbformat_minor": 5
}
