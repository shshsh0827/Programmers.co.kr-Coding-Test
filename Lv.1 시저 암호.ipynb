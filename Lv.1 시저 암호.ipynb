{
 "cells": [
  {
   "cell_type": "markdown",
   "id": "5370fb6b",
   "metadata": {},
   "source": [
    "https://programmers.co.kr/learn/courses/30/lessons/12926\n",
    "\n",
    "문제 설명\n",
    "어떤 문장의 각 알파벳을 일정한 거리만큼 밀어서 다른 알파벳으로 바꾸는 암호화 방식을 시저 암호라고 합니다. 예를 들어 \"AB\"는 1만큼 밀면 \"BC\"가 되고, 3만큼 밀면 \"DE\"가 됩니다. \"z\"는 1만큼 밀면 \"a\"가 됩니다. 문자열 s와 거리 n을 입력받아 s를 n만큼 민 암호문을 만드는 함수, solution을 완성해 보세요.\n",
    "\n",
    "제한 조건\n",
    "공백은 아무리 밀어도 공백입니다.\n",
    "s는 알파벳 소문자, 대문자, 공백으로만 이루어져 있습니다.\n",
    "s의 길이는 8000이하입니다.\n",
    "n은 1 이상, 25이하인 자연수입니다.\n",
    "입출력 예\n",
    "s\tn\tresult\n",
    "\"AB\"\t1\t\"BC\"\n",
    "\"z\"\t1\t\"a\"\n",
    "\"a B z\"\t4\t\"e F d\""
   ]
  },
  {
   "cell_type": "code",
   "execution_count": 1,
   "id": "ac4cd05b",
   "metadata": {},
   "outputs": [],
   "source": [
    "def solution(s, n):\n",
    "    alphabet = 'abcdefghijklmnopqrstuvwxyz' * 2\n",
    "    answer = ''\n",
    "    for i in s:\n",
    "        if i.islower():\n",
    "            answer += alphabet[alphabet.index(i) + n]\n",
    "        elif i.isupper():\n",
    "            answer += alphabet[alphabet.index(i.lower()) + n].upper()\n",
    "        else:\n",
    "            answer += i\n",
    "    return answer"
   ]
  },
  {
   "cell_type": "code",
   "execution_count": 2,
   "id": "1bdf2b3f",
   "metadata": {},
   "outputs": [
    {
     "data": {
      "text/plain": [
       "'BC'"
      ]
     },
     "execution_count": 2,
     "metadata": {},
     "output_type": "execute_result"
    }
   ],
   "source": [
    "solution(\"AB\", 1)"
   ]
  },
  {
   "cell_type": "code",
   "execution_count": 3,
   "id": "d8506d2d",
   "metadata": {},
   "outputs": [
    {
     "data": {
      "text/plain": [
       "'a'"
      ]
     },
     "execution_count": 3,
     "metadata": {},
     "output_type": "execute_result"
    }
   ],
   "source": [
    "solution(\"z\", 1)"
   ]
  },
  {
   "cell_type": "code",
   "execution_count": 4,
   "id": "16f997bd",
   "metadata": {},
   "outputs": [
    {
     "data": {
      "text/plain": [
       "'e F d'"
      ]
     },
     "execution_count": 4,
     "metadata": {},
     "output_type": "execute_result"
    }
   ],
   "source": [
    "solution(\"a B z\", 4)"
   ]
  }
 ],
 "metadata": {
  "kernelspec": {
   "display_name": "Python 3",
   "language": "python",
   "name": "python3"
  },
  "language_info": {
   "codemirror_mode": {
    "name": "ipython",
    "version": 3
   },
   "file_extension": ".py",
   "mimetype": "text/x-python",
   "name": "python",
   "nbconvert_exporter": "python",
   "pygments_lexer": "ipython3",
   "version": "3.8.8"
  }
 },
 "nbformat": 4,
 "nbformat_minor": 5
}
