{
 "cells": [
  {
   "cell_type": "markdown",
   "metadata": {},
   "source": [
    "https://programmers.co.kr/learn/courses/30/lessons/72411\n",
    "\n",
    "문제 설명\n",
    "레스토랑을 운영하던 스카피는 코로나19로 인한 불경기를 극복하고자 메뉴를 새로 구성하려고 고민하고 있습니다.\n",
    "기존에는 단품으로만 제공하던 메뉴를 조합해서 코스요리 형태로 재구성해서 새로운 메뉴를 제공하기로 결정했습니다. 어떤 단품메뉴들을 조합해서 코스요리 메뉴로 구성하면 좋을 지 고민하던 \"스카피\"는 이전에 각 손님들이 주문할 때 가장 많이 함께 주문한 단품메뉴들을 코스요리 메뉴로 구성하기로 했습니다.\n",
    "단, 코스요리 메뉴는 최소 2가지 이상의 단품메뉴로 구성하려고 합니다. 또한, 최소 2명 이상의 손님으로부터 주문된 단품메뉴 조합에 대해서만 코스요리 메뉴 후보에 포함하기로 했습니다.\n",
    "\n",
    "예를 들어, 손님 6명이 주문한 단품메뉴들의 조합이 다음과 같다면,\n",
    "(각 손님은 단품메뉴를 2개 이상 주문해야 하며, 각 단품메뉴는 A ~ Z의 알파벳 대문자로 표기합니다.)\n",
    "\n",
    "손님 번호\t주문한 단품메뉴 조합\n",
    "1번 손님\tA, B, C, F, G\n",
    "2번 손님\tA, C\n",
    "3번 손님\tC, D, E\n",
    "4번 손님\tA, C, D, E\n",
    "5번 손님\tB, C, F, G\n",
    "6번 손님\tA, C, D, E, H\n",
    "가장 많이 함께 주문된 단품메뉴 조합에 따라 \"스카피\"가 만들게 될 코스요리 메뉴 구성 후보는 다음과 같습니다.\n",
    "\n",
    "코스 종류\t메뉴 구성\t설명\n",
    "요리 2개 코스\tA, C\t1번, 2번, 4번, 6번 손님으로부터 총 4번 주문됐습니다.\n",
    "요리 3개 코스\tC, D, E\t3번, 4번, 6번 손님으로부터 총 3번 주문됐습니다.\n",
    "요리 4개 코스\tB, C, F, G\t1번, 5번 손님으로부터 총 2번 주문됐습니다.\n",
    "요리 4개 코스\tA, C, D, E\t4번, 6번 손님으로부터 총 2번 주문됐습니다.\n",
    "[문제]\n",
    "각 손님들이 주문한 단품메뉴들이 문자열 형식으로 담긴 배열 orders, \"스카피\"가 추가하고 싶어하는 코스요리를 구성하는 단품메뉴들의 갯수가 담긴 배열 course가 매개변수로 주어질 때, \"스카피\"가 새로 추가하게 될 코스요리의 메뉴 구성을 문자열 형태로 배열에 담아 return 하도록 solution 함수를 완성해 주세요.\n",
    "\n",
    "[제한사항]\n",
    "orders 배열의 크기는 2 이상 20 이하입니다.\n",
    "orders 배열의 각 원소는 크기가 2 이상 10 이하인 문자열입니다.\n",
    "각 문자열은 알파벳 대문자로만 이루어져 있습니다.\n",
    "각 문자열에는 같은 알파벳이 중복해서 들어있지 않습니다.\n",
    "course 배열의 크기는 1 이상 10 이하입니다.\n",
    "course 배열의 각 원소는 2 이상 10 이하인 자연수가 오름차순으로 정렬되어 있습니다.\n",
    "course 배열에는 같은 값이 중복해서 들어있지 않습니다.\n",
    "정답은 각 코스요리 메뉴의 구성을 문자열 형식으로 배열에 담아 사전 순으로 오름차순 정렬해서 return 해주세요.\n",
    "배열의 각 원소에 저장된 문자열 또한 알파벳 오름차순으로 정렬되어야 합니다.\n",
    "만약 가장 많이 함께 주문된 메뉴 구성이 여러 개라면, 모두 배열에 담아 return 하면 됩니다.\n",
    "orders와 course 매개변수는 return 하는 배열의 길이가 1 이상이 되도록 주어집니다.\n",
    "[입출력 예]\n",
    "orders\tcourse\tresult\n",
    "[\"ABCFG\", \"AC\", \"CDE\", \"ACDE\", \"BCFG\", \"ACDEH\"]\t[2,3,4]\t[\"AC\", \"ACDE\", \"BCFG\", \"CDE\"]\n",
    "[\"ABCDE\", \"AB\", \"CD\", \"ADE\", \"XYZ\", \"XYZ\", \"ACD\"]\t[2,3,5]\t[\"ACD\", \"AD\", \"ADE\", \"CD\", \"XYZ\"]\n",
    "[\"XYZ\", \"XWY\", \"WXA\"]\t[2,3,4]\t[\"WX\", \"XY\"]\n",
    "입출력 예에 대한 설명\n",
    "입출력 예 #1\n",
    "문제의 예시와 같습니다.\n",
    "\n",
    "입출력 예 #2\n",
    "AD가 세 번, CD가 세 번, ACD가 두 번, ADE가 두 번, XYZ 가 두 번 주문됐습니다.\n",
    "요리 5개를 주문한 손님이 1명 있지만, 최소 2명 이상의 손님에게서 주문된 구성만 코스요리 후보에 들어가므로, 요리 5개로 구성된 코스요리는 새로 추가하지 않습니다.\n",
    "\n",
    "입출력 예 #3\n",
    "WX가 두 번, XY가 두 번 주문됐습니다.\n",
    "3명의 손님 모두 단품메뉴를 3개씩 주문했지만, 최소 2명 이상의 손님에게서 주문된 구성만 코스요리 후보에 들어가므로, 요리 3개로 구성된 코스요리는 새로 추가하지 않습니다.\n",
    "또, 단품메뉴를 4개 이상 주문한 손님은 없으므로, 요리 4개로 구성된 코스요리 또한 새로 추가하지 않습니다."
   ]
  },
  {
   "cell_type": "code",
   "execution_count": 1,
   "metadata": {},
   "outputs": [],
   "source": [
    "from itertools import combinations\n",
    "\n",
    "def solution(orders, course):\n",
    "    orderD = dict()\n",
    "    for order in orders:\n",
    "        order = sorted(order)\n",
    "        for n in course:\n",
    "            for menu in list(combinations(order, n)):\n",
    "                try:\n",
    "                    orderD[menu] += 1\n",
    "                except:\n",
    "                    orderD[menu] = 1\n",
    "    answer = []\n",
    "    for n in course:\n",
    "        nm = list(filter(lambda x: len(x[0]) == n, orderD.items()))\n",
    "        answer.extend(list(map(lambda x: ''.join(x[0]), list(filter(lambda x: x[1] == sorted(nm, key=lambda x:x[1], reverse=True)[0][1] and x[1] > 1, nm)))))\n",
    "    return sorted(answer)"
   ]
  },
  {
   "cell_type": "code",
   "execution_count": 2,
   "metadata": {},
   "outputs": [
    {
     "data": {
      "text/plain": [
       "['AC', 'ACDE', 'BCFG', 'CDE']"
      ]
     },
     "execution_count": 2,
     "metadata": {},
     "output_type": "execute_result"
    }
   ],
   "source": [
    "solution([\"ABCFG\", \"AC\", \"CDE\", \"ACDE\", \"BCFG\", \"ACDEH\"], [2,3,4])"
   ]
  },
  {
   "cell_type": "code",
   "execution_count": 3,
   "metadata": {},
   "outputs": [
    {
     "data": {
      "text/plain": [
       "['ACD', 'AD', 'ADE', 'CD', 'XYZ']"
      ]
     },
     "execution_count": 3,
     "metadata": {},
     "output_type": "execute_result"
    }
   ],
   "source": [
    "solution([\"ABCDE\", \"AB\", \"CD\", \"ADE\", \"XYZ\", \"XYZ\", \"ACD\"], [2,3,5])"
   ]
  },
  {
   "cell_type": "code",
   "execution_count": 4,
   "metadata": {},
   "outputs": [
    {
     "data": {
      "text/plain": [
       "['WX', 'XY']"
      ]
     },
     "execution_count": 4,
     "metadata": {},
     "output_type": "execute_result"
    }
   ],
   "source": [
    "solution([\"XYZ\", \"XWY\", \"WXA\"], [2,3,4])"
   ]
  }
 ],
 "metadata": {
  "kernelspec": {
   "display_name": "Python 3",
   "language": "python",
   "name": "python3"
  },
  "language_info": {
   "codemirror_mode": {
    "name": "ipython",
    "version": 3
   },
   "file_extension": ".py",
   "mimetype": "text/x-python",
   "name": "python",
   "nbconvert_exporter": "python",
   "pygments_lexer": "ipython3",
   "version": "3.7.4"
  }
 },
 "nbformat": 4,
 "nbformat_minor": 2
}
